{
 "cells": [
  {
   "cell_type": "markdown",
   "metadata": {},
   "source": [
    "# Making predictions using streaming aggregated features\n",
    "\n",
    "All prior notebooks have been setting up the solution. Now that all those steps are complete, it is time to see the solution in action. In this notebook, we will send credit card transactions to our input stream and show that we can detect fraud. We take advantage of multiple online feature groups in the Amazon SageMaker Feature Store. One of those groups is refreshed by a processing job, which we would run nightly to provide aggregate features looking back one week. The other feature group uses streaming ingestion to aggregate features that look back over a rolling 10-minute window.\n",
    "\n",
    "### Recap of what is in place\n",
    "\n",
    "Here is a recap of what we have done so far:\n",
    "\n",
    "1. We generated a synthetic dataset of transactions, including simulated fraud attacks.\n",
    "2. We created a pair of feature groups.\n",
    "3. We created a Kinesis data stream and a Kinesis Data Analytics SQL application that consumes the transaction stream and produces aggregate features. These features are provided in near real time to Lambda, and they look back over a 10 minute window.\n",
    "4. We created aggregated features and used them to feed both the training dataset as well as an online feature group.\n",
    "5. We trained and deployed an XGBoost model to detect fraud.\n",
    "6. Our CloudFormation template deployed a pair of Lambda functions. One listens to the KDA SQL output and keeps the `cc-agg-fg` feature group up to date.\n",
    "7. The other Lambda listens to the Kinesis data stream for transactions, pulls a set of features from multiple feature groups, and invokes our fraud detection endpoint."
   ]
  },
  {
   "cell_type": "markdown",
   "metadata": {},
   "source": [
    "## Imports and overall setup\n",
    "\n",
    "### Imports and initialization"
   ]
  },
  {
   "cell_type": "code",
   "execution_count": 1,
   "metadata": {},
   "outputs": [],
   "source": [
    "from datetime import datetime\n",
    "import numpy as np\n",
    "import pandas as pd\n",
    "import sagemaker\n",
    "import boto3\n",
    "import json\n",
    "import time"
   ]
  },
  {
   "cell_type": "code",
   "execution_count": 141,
   "metadata": {},
   "outputs": [],
   "source": [
    "LOCAL_DIR = './data'\n",
    "BUCKET = sagemaker.Session().default_bucket()\n",
    "PREFIX = 'testing'\n",
    "STREAM_NAME = 'cc-stream'\n",
    "\n",
    "s3_client = boto3.Session().client('s3')\n",
    "kinesis_client = boto3.client('kinesis')"
   ]
  },
  {
   "cell_type": "code",
   "execution_count": 138,
   "metadata": {},
   "outputs": [
    {
     "data": {
      "text/plain": [
       "'InvokeFraudEndpointLambda-v4'"
      ]
     },
     "execution_count": 138,
     "metadata": {},
     "output_type": "execute_result"
    }
   ],
   "source": [
    "# The exact name of the Lambda function is controlled by our CloudFormation template, \n",
    "# so we access that here. We will use this to help get to the proper CloudWatch log group to see the\n",
    "# results of our testing.\n",
    "%store -r\n",
    "predict_lambda_name"
   ]
  },
  {
   "cell_type": "markdown",
   "metadata": {},
   "source": [
    "### Ensure Lambda knows which SageMaker endpoint to use\n",
    "In our previous notebook that deploys a SageMaker endpoint, we allow the endpoint name to be generated on the fly instead of hard-coding a specific endpoint name. Our Lambda function that invokes the endpoint thus needs a way to know the endpoint name. We handle that through a Lambda environment variable.\n",
    "\n",
    "This section of code simply takes care of updating end ENDPOINT_NAME Lambda environment variable. It is important to do so before we start feeding transactions into our Kinesis stream."
   ]
  },
  {
   "cell_type": "code",
   "execution_count": 3,
   "metadata": {},
   "outputs": [
    {
     "name": "stdout",
     "output_type": "stream",
     "text": [
      "Updating Lambda to use endpoint: sagemaker-xgboost-2020-12-07-23-25-29-104 for ARN: arn:aws:lambda:us-east-2:105242341581:function:InvokeFraudEndpointLambda-v4\n"
     ]
    }
   ],
   "source": [
    "lambda_client = boto3.client('lambda')\n",
    "\n",
    "# Grab the latest endpoint name we used in the previous notebook, as well as the ARN for the lambda\n",
    "%store -r\n",
    "print(f'Updating Lambda to use endpoint: {endpoint_name} for ARN: {lambda_to_model_arn}')\n",
    "\n",
    "variables = lambda_client.get_function_configuration(FunctionName=lambda_to_model_arn)['Environment']['Variables']\n",
    "variables['ENDPOINT_NAME'] = endpoint_name\n",
    "resp = lambda_client.update_function_configuration(\n",
    "    FunctionName=lambda_to_model_arn,\n",
    "      Environment={\n",
    "        'Variables': variables\n",
    "    }\n",
    ")"
   ]
  },
  {
   "cell_type": "markdown",
   "metadata": {},
   "source": [
    "### Access the transaction test dataset"
   ]
  },
  {
   "cell_type": "code",
   "execution_count": 4,
   "metadata": {},
   "outputs": [
    {
     "data": {
      "text/html": [
       "<div>\n",
       "<style scoped>\n",
       "    .dataframe tbody tr th:only-of-type {\n",
       "        vertical-align: middle;\n",
       "    }\n",
       "\n",
       "    .dataframe tbody tr th {\n",
       "        vertical-align: top;\n",
       "    }\n",
       "\n",
       "    .dataframe thead th {\n",
       "        text-align: right;\n",
       "    }\n",
       "</style>\n",
       "<table border=\"1\" class=\"dataframe\">\n",
       "  <thead>\n",
       "    <tr style=\"text-align: right;\">\n",
       "      <th></th>\n",
       "      <th>tid</th>\n",
       "      <th>datetime</th>\n",
       "      <th>cc_num</th>\n",
       "      <th>amount</th>\n",
       "      <th>fraud_label</th>\n",
       "      <th>num_trans_last_10m</th>\n",
       "      <th>avg_amt_last_10m</th>\n",
       "      <th>num_trans_last_1w</th>\n",
       "      <th>avg_amt_last_1w</th>\n",
       "      <th>amt_ratio1</th>\n",
       "      <th>amt_ratio2</th>\n",
       "      <th>count_ratio</th>\n",
       "    </tr>\n",
       "  </thead>\n",
       "  <tbody>\n",
       "    <tr>\n",
       "      <th>0</th>\n",
       "      <td>b66d85a66671654ee1ce894f472ad0ed</td>\n",
       "      <td>2020-05-15T02:15:48.000Z</td>\n",
       "      <td>4001487383951324</td>\n",
       "      <td>15.61</td>\n",
       "      <td>0</td>\n",
       "      <td>1</td>\n",
       "      <td>15.61</td>\n",
       "      <td>26</td>\n",
       "      <td>1111.710769</td>\n",
       "      <td>0.014041</td>\n",
       "      <td>0.014041</td>\n",
       "      <td>0.038462</td>\n",
       "    </tr>\n",
       "    <tr>\n",
       "      <th>1</th>\n",
       "      <td>ea24ea401ee3e8359f8b391ca57bfaf8</td>\n",
       "      <td>2020-05-16T13:11:43.000Z</td>\n",
       "      <td>4001487383951324</td>\n",
       "      <td>940.21</td>\n",
       "      <td>0</td>\n",
       "      <td>1</td>\n",
       "      <td>940.21</td>\n",
       "      <td>23</td>\n",
       "      <td>1225.213043</td>\n",
       "      <td>0.767385</td>\n",
       "      <td>0.767385</td>\n",
       "      <td>0.043478</td>\n",
       "    </tr>\n",
       "    <tr>\n",
       "      <th>2</th>\n",
       "      <td>a8830365a7b881167c8e5c9daf717f89</td>\n",
       "      <td>2020-05-16T20:57:35.000Z</td>\n",
       "      <td>4001487383951324</td>\n",
       "      <td>865.45</td>\n",
       "      <td>0</td>\n",
       "      <td>1</td>\n",
       "      <td>865.45</td>\n",
       "      <td>23</td>\n",
       "      <td>1259.573913</td>\n",
       "      <td>0.687097</td>\n",
       "      <td>0.687097</td>\n",
       "      <td>0.043478</td>\n",
       "    </tr>\n",
       "    <tr>\n",
       "      <th>3</th>\n",
       "      <td>c6bbd001c206c1214e5aa2fdd12a7e35</td>\n",
       "      <td>2020-05-17T13:51:00.000Z</td>\n",
       "      <td>4001487383951324</td>\n",
       "      <td>89.21</td>\n",
       "      <td>0</td>\n",
       "      <td>1</td>\n",
       "      <td>89.21</td>\n",
       "      <td>23</td>\n",
       "      <td>1259.200000</td>\n",
       "      <td>0.070847</td>\n",
       "      <td>0.070847</td>\n",
       "      <td>0.043478</td>\n",
       "    </tr>\n",
       "    <tr>\n",
       "      <th>4</th>\n",
       "      <td>2b2bb2583079a6b8f737b40140d7754a</td>\n",
       "      <td>2020-05-17T16:41:19.000Z</td>\n",
       "      <td>4001487383951324</td>\n",
       "      <td>25.71</td>\n",
       "      <td>0</td>\n",
       "      <td>1</td>\n",
       "      <td>25.71</td>\n",
       "      <td>24</td>\n",
       "      <td>1207.804583</td>\n",
       "      <td>0.021287</td>\n",
       "      <td>0.021287</td>\n",
       "      <td>0.041667</td>\n",
       "    </tr>\n",
       "  </tbody>\n",
       "</table>\n",
       "</div>"
      ],
      "text/plain": [
       "                                tid                  datetime  \\\n",
       "0  b66d85a66671654ee1ce894f472ad0ed  2020-05-15T02:15:48.000Z   \n",
       "1  ea24ea401ee3e8359f8b391ca57bfaf8  2020-05-16T13:11:43.000Z   \n",
       "2  a8830365a7b881167c8e5c9daf717f89  2020-05-16T20:57:35.000Z   \n",
       "3  c6bbd001c206c1214e5aa2fdd12a7e35  2020-05-17T13:51:00.000Z   \n",
       "4  2b2bb2583079a6b8f737b40140d7754a  2020-05-17T16:41:19.000Z   \n",
       "\n",
       "             cc_num  amount  fraud_label  num_trans_last_10m  \\\n",
       "0  4001487383951324   15.61            0                   1   \n",
       "1  4001487383951324  940.21            0                   1   \n",
       "2  4001487383951324  865.45            0                   1   \n",
       "3  4001487383951324   89.21            0                   1   \n",
       "4  4001487383951324   25.71            0                   1   \n",
       "\n",
       "   avg_amt_last_10m  num_trans_last_1w  avg_amt_last_1w  amt_ratio1  \\\n",
       "0             15.61                 26      1111.710769    0.014041   \n",
       "1            940.21                 23      1225.213043    0.767385   \n",
       "2            865.45                 23      1259.573913    0.687097   \n",
       "3             89.21                 23      1259.200000    0.070847   \n",
       "4             25.71                 24      1207.804583    0.021287   \n",
       "\n",
       "   amt_ratio2  count_ratio  \n",
       "0    0.014041     0.038462  \n",
       "1    0.767385     0.043478  \n",
       "2    0.687097     0.043478  \n",
       "3    0.070847     0.043478  \n",
       "4    0.021287     0.041667  "
      ]
     },
     "execution_count": 4,
     "metadata": {},
     "output_type": "execute_result"
    }
   ],
   "source": [
    "test_file_path = './data/test.csv'\n",
    "test_df = pd.read_csv(test_file_path)\n",
    "test_df.head()"
   ]
  },
  {
   "cell_type": "code",
   "execution_count": 5,
   "metadata": {},
   "outputs": [
    {
     "name": "stdout",
     "output_type": "stream",
     "text": [
      "(603208, 12)\n"
     ]
    }
   ],
   "source": [
    "test_df.head()\n",
    "print(test_df.shape)"
   ]
  },
  {
   "cell_type": "markdown",
   "metadata": {},
   "source": [
    "## Test out the solution, end to end"
   ]
  },
  {
   "cell_type": "code",
   "execution_count": 139,
   "metadata": {},
   "outputs": [],
   "source": [
    "def get_cloudwatch_logs_url(start_time, end_time):\n",
    "    log_group_name = '/aws/lambda/' + predict_lambda_name \n",
    "    # get the latest log stream for our Lambda that makes fraud predictions\n",
    "    cw_client = boto3.client('logs')\n",
    "    last_cw_evt = 0\n",
    "    while last_cw_evt < int(start_test_time * 1000):\n",
    "        streams = cw_client.describe_log_streams(logGroupName=log_group_name,\n",
    "                                                 orderBy='LastEventTime',\n",
    "                                                 descending=True)['logStreams']\n",
    "        last_cw_evt = streams[0]['lastIngestionTime'] #'lastEventTimestamp']\n",
    "        latest_stream = str(streams[0]['logStreamName']).replace('/', '$252F').replace('[$LATEST]', '$255B$2524LATEST$255D')\n",
    "        if last_cw_evt < int(start_test_time * 1000):\n",
    "            print('waiting for updated log stream...')\n",
    "            time.sleep(10)\n",
    "\n",
    "    # produce a valid URL to get to that log stream\n",
    "    region = boto3.session.Session().region_name\n",
    "    log_group_escaped = log_group_name.replace('/', '$252F')\n",
    "    cw_url = f'https://console.aws.amazon.com/cloudwatch/home?region={region}#logsV2:log-groups/log-group/{log_group_escaped}'\n",
    "    time_filter = f'$26start$3D{int(start_test_time * 1000) - 10000}$26end$3D{int(end_test_time * 1000) + 40000}'\n",
    "    full_cw_url = f'{cw_url}/log-events/{latest_stream}$3FfilterPattern$3DPrediction+{time_filter}'\n",
    "    print('Updated log stream is ready.')\n",
    "    return full_cw_url"
   ]
  },
  {
   "cell_type": "code",
   "execution_count": 30,
   "metadata": {},
   "outputs": [],
   "source": [
    "def put_to_stream(stream_name, cc_num, merchant, amount, zip_code, timestamp):\n",
    "    \n",
    "    payload = {\n",
    "        'cc_num': int(cc_num),\n",
    "        'merchant': merchant,\n",
    "        'amount': amount,\n",
    "        'zip_code': zip_code,\n",
    "        'trans_ts': timestamp\n",
    "    }\n",
    "    ret_status = True\n",
    "    data = json.dumps(payload)\n",
    "    print(f'Sending transaction on card: {cc_num}...')\n",
    "    response = kinesis_client.put_record(StreamName = stream_name,\n",
    "                                             Data = data,\n",
    "                                             PartitionKey = 'shard1')\n",
    "    \n",
    "    if (response['ResponseMetadata']['HTTPStatusCode'] != 200):\n",
    "        print(\"ERROR: Kinesis put_record failed: \\n{}\".format(json.dumps(response)))\n",
    "        ret_status = False\n",
    "        \n",
    "    return ret_status"
   ]
  },
  {
   "cell_type": "code",
   "execution_count": 98,
   "metadata": {},
   "outputs": [],
   "source": [
    "def simulate_fraud(stream_name, cc_num):\n",
    "    max_wait = 2\n",
    "    for i in range(10):\n",
    "        random_amt = round(np.random.uniform(1.00, 5000.00), 2)\n",
    "        seconds_to_wait = np.random.uniform(0.5, max_wait)\n",
    "        print(f'waiting {seconds_to_wait:.1f} seconds to send trans {i}...')\n",
    "        time.sleep(seconds_to_wait)\n",
    "        put_to_stream(stream_name, int(cc_num), 'Random Corp', random_amt, '03099', time.time())"
   ]
  },
  {
   "cell_type": "markdown",
   "metadata": {},
   "source": [
    "### Send some transactions, and see the results\n",
    "To show that the solution works, we send a single transaction to each of three different credit cards. Then, we simulate a fraud attack on a 4th credit card by sending many quick transactions. The output from our Lambda function is shown below. As expected, the first three one-off transactions are predicted as NOT FRAUD. Of the ten fraudulent transactions, the first is predicted as NOT FRAUD, and the rest are all correctly identified as FRAUD. Notice how the aggregate features are kept current, helping drive more accurate predictions."
   ]
  },
  {
   "cell_type": "code",
   "execution_count": 136,
   "metadata": {},
   "outputs": [
    {
     "name": "stdout",
     "output_type": "stream",
     "text": [
      "Sending transaction on card: 4135583439783239...\n",
      "Sending transaction on card: 4139276375485267...\n",
      "Sending transaction on card: 4140512527773862...\n",
      "\n",
      "Now simulating fraud attack...\n",
      "waiting 0.7 seconds to send trans 0...\n",
      "Sending transaction on card: 4147512691589717...\n",
      "waiting 1.4 seconds to send trans 1...\n",
      "Sending transaction on card: 4147512691589717...\n",
      "waiting 1.1 seconds to send trans 2...\n",
      "Sending transaction on card: 4147512691589717...\n",
      "waiting 1.1 seconds to send trans 3...\n",
      "Sending transaction on card: 4147512691589717...\n",
      "waiting 0.9 seconds to send trans 4...\n",
      "Sending transaction on card: 4147512691589717...\n",
      "waiting 1.7 seconds to send trans 5...\n",
      "Sending transaction on card: 4147512691589717...\n",
      "waiting 1.2 seconds to send trans 6...\n",
      "Sending transaction on card: 4147512691589717...\n",
      "waiting 2.0 seconds to send trans 7...\n",
      "Sending transaction on card: 4147512691589717...\n",
      "waiting 1.7 seconds to send trans 8...\n",
      "Sending transaction on card: 4147512691589717...\n",
      "waiting 1.6 seconds to send trans 9...\n",
      "Sending transaction on card: 4147512691589717...\n"
     ]
    }
   ],
   "source": [
    "cc_nums = test_df.cc_num.unique()[50:54]\n",
    "\n",
    "start_test_time = time.time() \n",
    "\n",
    "put_to_stream(STREAM_NAME, cc_nums[0], 'Merchant-0', round(np.random.uniform(100, 5000), 2), 'zip-0', time.time())\n",
    "put_to_stream(STREAM_NAME, cc_nums[1], 'Merchant-1', round(np.random.uniform(100, 5000), 2), 'zip-1', time.time())\n",
    "put_to_stream(STREAM_NAME, cc_nums[2], 'Merchant-2', round(np.random.uniform(100, 5000), 2), 'zip-2', time.time())\n",
    "\n",
    "print('\\nNow simulate a fraud attack...')\n",
    "fraud_cc_num = cc_nums[3]\n",
    "simulate_fraud(STREAM_NAME, fraud_cc_num)\n",
    "\n",
    "end_test_time = time.time() "
   ]
  },
  {
   "cell_type": "markdown",
   "metadata": {},
   "source": [
    "### Results can be seen in the CloudWatch log stream of our Lambda function"
   ]
  },
  {
   "cell_type": "code",
   "execution_count": 142,
   "metadata": {},
   "outputs": [
    {
     "name": "stdout",
     "output_type": "stream",
     "text": [
      "Updated log stream is ready.\n"
     ]
    },
    {
     "data": {
      "text/html": [
       "<b>Review results in this log stream <a target=\"blank\" href=\"https://console.aws.amazon.com/cloudwatch/home?region=us-east-2#logsV2:log-groups/log-group/$252Faws$252Flambda$252FInvokeFraudEndpointLambda-v4/log-events/2020$252F12$252F08$252F$255B$2524LATEST$255D4cd2734dff99460eb66c6b0b25de7f64$3FfilterPattern$3DPrediction+$26start$3D1607443691930$26end$3D1607443755430\">Lambda fraud detection results</a></b>"
      ],
      "text/plain": [
       "<IPython.core.display.HTML object>"
      ]
     },
     "metadata": {},
     "output_type": "display_data"
    }
   ],
   "source": [
    "from IPython.core.display import display, HTML\n",
    "\n",
    "full_cw_url = get_cloudwatch_logs_url(start_test_time, end_test_time)\n",
    "display(HTML(f'<b>Review results in this log stream <a target=\"blank\" href=\"{full_cw_url}\">Lambda fraud detection results</a></b>'))"
   ]
  },
  {
   "cell_type": "markdown",
   "metadata": {},
   "source": [
    "### Feed a stream of transactions [optional]\n",
    "If you would like to send additional credit card transactions to simulate more input traffic to the feature pipeline, you can pull from the test dataset as shown below. Just pass in how many transactions you want to send, and the max wait time between transactions (in seconds)."
   ]
  },
  {
   "cell_type": "code",
   "execution_count": 126,
   "metadata": {},
   "outputs": [],
   "source": [
    "import time\n",
    "\n",
    "def simulate_traffic(df, max_wait, num_trans):\n",
    "    for i in range(num_trans):\n",
    "        row = test_df.iloc[i]\n",
    "        cc_num = row['cc_num']\n",
    "        zip_code = '0'\n",
    "        merchant = 'A'\n",
    "        amt = row['amount']\n",
    "        print(f'cc_num: {cc_num}, amt: {amt}')\n",
    "        seconds_to_wait = int(np.random.uniform(0.1, max_wait))\n",
    "        print(f'waiting {seconds_to_wait} seconds to send trans {i}...')\n",
    "        time.sleep(seconds_to_wait)\n",
    "        print(f' putting trans with card: {cc_num}, amt: {amt}, zip: {zip_code}, merchant: {merchant}')\n",
    "        status = put_to_stream(cc_num, merchant, amt, zip_code, now)\n",
    "        if (not status):\n",
    "            print('Error found during write to Kinesis Stream')\n",
    "            break\n",
    "        i += 1\n",
    "        if i > (num_trans -1):\n",
    "            break"
   ]
  },
  {
   "cell_type": "code",
   "execution_count": 129,
   "metadata": {},
   "outputs": [],
   "source": [
    "#simulate_traffic(test_df, 2, 5)"
   ]
  },
  {
   "cell_type": "code",
   "execution_count": null,
   "metadata": {},
   "outputs": [],
   "source": []
  }
 ],
 "metadata": {
  "kernelspec": {
   "display_name": "conda_python3",
   "language": "python",
   "name": "conda_python3"
  },
  "language_info": {
   "codemirror_mode": {
    "name": "ipython",
    "version": 3
   },
   "file_extension": ".py",
   "mimetype": "text/x-python",
   "name": "python",
   "nbconvert_exporter": "python",
   "pygments_lexer": "ipython3",
   "version": "3.6.10"
  }
 },
 "nbformat": 4,
 "nbformat_minor": 4
}
