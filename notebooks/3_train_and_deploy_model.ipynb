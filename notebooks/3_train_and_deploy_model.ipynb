{
 "cells": [
  {
   "cell_type": "markdown",
   "metadata": {},
   "source": [
    "# Training and Deploying the Fraud Detection Model\n",
    "\n",
    "In this notebook, we will take the outputs from the Processing Job in the previous step and use it and train and deploy an XGBoost model. Our historic transaction dataset is initially comprised of data like timestamp, card number, and transaction amount and we enriched each transaction with features about that card number's recent history, including:\n",
    "\n",
    "- `num_trans_last_10m`\n",
    "- `num_trans_last_1w`\n",
    "- `avg_amt_last_10m`\n",
    "- `avg_amt_last_1w`\n",
    "\n",
    "Individual card numbers may have radically different spending patterns, so we will want to use normalized ratio features to train our XGBoost model to detect fraud. "
   ]
  },
  {
   "cell_type": "markdown",
   "metadata": {},
   "source": [
    "### Imports "
   ]
  },
  {
   "cell_type": "code",
   "execution_count": 21,
   "metadata": {},
   "outputs": [],
   "source": [
    "from sklearn.model_selection import train_test_split\n",
    "from sagemaker.inputs import TrainingInput\n",
    "from sagemaker.session import Session\n",
    "from sagemaker import image_uris\n",
    "import pandas as pd\n",
    "import numpy as np\n",
    "import sagemaker\n",
    "import boto3\n",
    "import io"
   ]
  },
  {
   "cell_type": "markdown",
   "metadata": {},
   "source": [
    "### Essentials "
   ]
  },
  {
   "cell_type": "code",
   "execution_count": 22,
   "metadata": {},
   "outputs": [],
   "source": [
    "LOCAL_DIR = './data'\n",
    "BUCKET = sagemaker.Session().default_bucket()\n",
    "PREFIX = 'training'\n",
    "\n",
    "sagemaker_role = sagemaker.get_execution_role()\n",
    "s3_client = boto3.Session().client('s3')"
   ]
  },
  {
   "cell_type": "markdown",
   "metadata": {},
   "source": [
    "First, let's load the results of the SageMaker Processing Job ran in the previous step into a Pandas dataframe. "
   ]
  },
  {
   "cell_type": "code",
   "execution_count": 23,
   "metadata": {},
   "outputs": [
    {
     "data": {
      "text/plain": [
       "5400000"
      ]
     },
     "execution_count": 23,
     "metadata": {},
     "output_type": "execute_result"
    }
   ],
   "source": [
    "df = pd.read_csv(f'{LOCAL_DIR}/aggregated/processing_output.csv')\n",
    "#df.dropna(inplace=True)\n",
    "df['cc_num'] = df['cc_num'].astype(np.int64)\n",
    "df['fraud_label'] = df['fraud_label'].astype(np.int64)\n",
    "df.head()\n",
    "len(df)"
   ]
  },
  {
   "cell_type": "markdown",
   "metadata": {},
   "source": [
    "### Split DataFrame into Train & Test Sets"
   ]
  },
  {
   "cell_type": "markdown",
   "metadata": {},
   "source": [
    "The artifically generated dataset contains transactions from `2020-01-01` to `2020-06-01`. We will create a training and validation set out of transactions from `2020-01-15` and `2020-05-15`, discarding the first two weeks in order for our aggregated features to have built up sufficient history for cards and leaving the last two weeks as a holdout test set. "
   ]
  },
  {
   "cell_type": "code",
   "execution_count": 24,
   "metadata": {},
   "outputs": [],
   "source": [
    "training_start = '2020-01-15'\n",
    "training_end = '2020-05-15'\n",
    "\n",
    "training_df = df[(df.datetime > training_start) & (df.datetime < training_end)]\n",
    "test_df = df[df.datetime >= training_end]\n",
    "\n",
    "test_df.to_csv(f'{LOCAL_DIR}/test.csv', index=False)"
   ]
  },
  {
   "cell_type": "markdown",
   "metadata": {},
   "source": [
    "Although we now have lots of information about each transaction in our training dataset, we don't want to pass everything as features to the XGBoost algorithm for training because some elements are not useful for detecting fraud or creating a performant model:\n",
    "- A transaction ID and timestamp is unique to the transaction and never seen again. \n",
    "- A card number, if included in the feature set at all, should be a categorical variable. But we don't want our model to learn that specific card numbers are associated with fraud as this might lead to our system blocking genuine behaviour. Instead we should only have the model learn to detect shifting patterns in a card's spending history. \n",
    "- Individual card numbers may have radically different spending patterns, so we will want to use normalized ratio features to train our XGBoost model to detect fraud. \n",
    "\n",
    "Given all of the above, we drop all columns except for the normalised ratio features and transaction amount from our training dataset."
   ]
  },
  {
   "cell_type": "code",
   "execution_count": 25,
   "metadata": {},
   "outputs": [],
   "source": [
    "training_df.drop(['tid','datetime','cc_num','num_trans_last_10m', 'avg_amt_last_10m',\n",
    "       'num_trans_last_1w', 'avg_amt_last_1w'], axis=1, inplace=True)"
   ]
  },
  {
   "cell_type": "markdown",
   "metadata": {},
   "source": [
    "The [built-in XGBoost algorithm](https://docs.aws.amazon.com/sagemaker/latest/dg/xgboost.html) requires the label to be the first column in the training data:"
   ]
  },
  {
   "cell_type": "code",
   "execution_count": 26,
   "metadata": {},
   "outputs": [
    {
     "data": {
      "text/html": [
       "<div>\n",
       "<style scoped>\n",
       "    .dataframe tbody tr th:only-of-type {\n",
       "        vertical-align: middle;\n",
       "    }\n",
       "\n",
       "    .dataframe tbody tr th {\n",
       "        vertical-align: top;\n",
       "    }\n",
       "\n",
       "    .dataframe thead th {\n",
       "        text-align: right;\n",
       "    }\n",
       "</style>\n",
       "<table border=\"1\" class=\"dataframe\">\n",
       "  <thead>\n",
       "    <tr style=\"text-align: right;\">\n",
       "      <th></th>\n",
       "      <th>fraud_label</th>\n",
       "      <th>amount</th>\n",
       "      <th>amt_ratio1</th>\n",
       "      <th>amt_ratio2</th>\n",
       "      <th>count_ratio</th>\n",
       "    </tr>\n",
       "  </thead>\n",
       "  <tbody>\n",
       "    <tr>\n",
       "      <th>46</th>\n",
       "      <td>0</td>\n",
       "      <td>74.26</td>\n",
       "      <td>0.273769</td>\n",
       "      <td>0.273769</td>\n",
       "      <td>0.038462</td>\n",
       "    </tr>\n",
       "    <tr>\n",
       "      <th>47</th>\n",
       "      <td>0</td>\n",
       "      <td>55.88</td>\n",
       "      <td>0.205358</td>\n",
       "      <td>0.205358</td>\n",
       "      <td>0.038462</td>\n",
       "    </tr>\n",
       "    <tr>\n",
       "      <th>48</th>\n",
       "      <td>0</td>\n",
       "      <td>1711.35</td>\n",
       "      <td>5.257197</td>\n",
       "      <td>5.257197</td>\n",
       "      <td>0.040000</td>\n",
       "    </tr>\n",
       "    <tr>\n",
       "      <th>49</th>\n",
       "      <td>0</td>\n",
       "      <td>86.50</td>\n",
       "      <td>0.255466</td>\n",
       "      <td>0.255466</td>\n",
       "      <td>0.041667</td>\n",
       "    </tr>\n",
       "    <tr>\n",
       "      <th>50</th>\n",
       "      <td>0</td>\n",
       "      <td>27.94</td>\n",
       "      <td>0.175429</td>\n",
       "      <td>0.085661</td>\n",
       "      <td>0.080000</td>\n",
       "    </tr>\n",
       "  </tbody>\n",
       "</table>\n",
       "</div>"
      ],
      "text/plain": [
       "    fraud_label   amount  amt_ratio1  amt_ratio2  count_ratio\n",
       "46            0    74.26    0.273769    0.273769     0.038462\n",
       "47            0    55.88    0.205358    0.205358     0.038462\n",
       "48            0  1711.35    5.257197    5.257197     0.040000\n",
       "49            0    86.50    0.255466    0.255466     0.041667\n",
       "50            0    27.94    0.175429    0.085661     0.080000"
      ]
     },
     "execution_count": 26,
     "metadata": {},
     "output_type": "execute_result"
    }
   ],
   "source": [
    "training_df = training_df[['fraud_label', 'amount', 'amt_ratio1','amt_ratio2','count_ratio']]\n",
    "training_df.head()"
   ]
  },
  {
   "cell_type": "code",
   "execution_count": 27,
   "metadata": {},
   "outputs": [],
   "source": [
    "train, val = train_test_split(training_df, test_size=0.3)\n",
    "train.to_csv(f'{LOCAL_DIR}/train.csv', header=False, index=False)\n",
    "val.to_csv(f'{LOCAL_DIR}/val.csv', header=False, index=False)"
   ]
  },
  {
   "cell_type": "code",
   "execution_count": 28,
   "metadata": {},
   "outputs": [
    {
     "name": "stdout",
     "output_type": "stream",
     "text": [
      "upload: data/train.csv to s3://sagemaker-us-east-2-105242341581/training/train.csv\n",
      "upload: data/val.csv to s3://sagemaker-us-east-2-105242341581/training/val.csv\n"
     ]
    }
   ],
   "source": [
    "!aws s3 cp {LOCAL_DIR}/train.csv s3://{BUCKET}/{PREFIX}/\n",
    "!aws s3 cp {LOCAL_DIR}/val.csv s3://{BUCKET}/{PREFIX}/"
   ]
  },
  {
   "cell_type": "code",
   "execution_count": 29,
   "metadata": {},
   "outputs": [
    {
     "name": "stdout",
     "output_type": "stream",
     "text": [
      "2020-12-07 22:19:43 Starting - Starting the training job...\n",
      "2020-12-07 22:19:46 Starting - Launching requested ML instances......\n",
      "2020-12-07 22:20:52 Starting - Preparing the instances for training......\n",
      "2020-12-07 22:21:56 Downloading - Downloading input data...\n",
      "2020-12-07 22:22:34 Training - Training image download completed. Training in progress..\u001b[34mINFO:sagemaker-containers:Imported framework sagemaker_xgboost_container.training\u001b[0m\n",
      "\u001b[34mINFO:sagemaker-containers:Failed to parse hyperparameter objective value binary:logistic to Json.\u001b[0m\n",
      "\u001b[34mReturning the value itself\u001b[0m\n",
      "\u001b[34mINFO:sagemaker-containers:No GPUs detected (normal if no gpus installed)\u001b[0m\n",
      "\u001b[34mINFO:sagemaker_xgboost_container.training:Running XGBoost Sagemaker in algorithm mode\u001b[0m\n",
      "\u001b[34mINFO:root:Determined delimiter of CSV input is ','\u001b[0m\n",
      "\u001b[34mINFO:root:Determined delimiter of CSV input is ','\u001b[0m\n",
      "\u001b[34mINFO:root:Determined delimiter of CSV input is ','\u001b[0m\n",
      "\u001b[34mINFO:root:Determined delimiter of CSV input is ','\u001b[0m\n",
      "\u001b[34mINFO:root:Single node training.\u001b[0m\n",
      "\u001b[34mINFO:root:Train matrix has 3009406 rows\u001b[0m\n",
      "\u001b[34mINFO:root:Validation matrix has 1289746 rows\u001b[0m\n",
      "\u001b[34m[0]#011train-error:0.00128#011validation-error:0.00136\u001b[0m\n",
      "\u001b[34m[1]#011train-error:0.00130#011validation-error:0.00138\u001b[0m\n",
      "\u001b[34m[2]#011train-error:0.00128#011validation-error:0.00137\u001b[0m\n",
      "\u001b[34m[3]#011train-error:0.00130#011validation-error:0.00137\u001b[0m\n",
      "\u001b[34m[4]#011train-error:0.00127#011validation-error:0.00134\u001b[0m\n",
      "\u001b[34m[5]#011train-error:0.00127#011validation-error:0.00134\u001b[0m\n",
      "\u001b[34m[6]#011train-error:0.00127#011validation-error:0.00134\u001b[0m\n",
      "\u001b[34m[7]#011train-error:0.00127#011validation-error:0.00134\u001b[0m\n",
      "\u001b[34m[8]#011train-error:0.00126#011validation-error:0.00134\u001b[0m\n",
      "\u001b[34m[9]#011train-error:0.00126#011validation-error:0.00133\u001b[0m\n",
      "\u001b[34m[10]#011train-error:0.00126#011validation-error:0.00133\u001b[0m\n",
      "\u001b[34m[11]#011train-error:0.00127#011validation-error:0.00134\u001b[0m\n",
      "\u001b[34m[12]#011train-error:0.00127#011validation-error:0.00133\u001b[0m\n",
      "\u001b[34m[13]#011train-error:0.00127#011validation-error:0.00133\u001b[0m\n",
      "\u001b[34m[14]#011train-error:0.00127#011validation-error:0.00133\u001b[0m\n",
      "\u001b[34m[15]#011train-error:0.00127#011validation-error:0.00133\u001b[0m\n",
      "\u001b[34m[16]#011train-error:0.00127#011validation-error:0.00133\u001b[0m\n",
      "\u001b[34m[17]#011train-error:0.00126#011validation-error:0.00133\u001b[0m\n",
      "\u001b[34m[18]#011train-error:0.00127#011validation-error:0.00133\u001b[0m\n",
      "\u001b[34m[19]#011train-error:0.00126#011validation-error:0.00133\u001b[0m\n",
      "\u001b[34m[20]#011train-error:0.00126#011validation-error:0.00132\u001b[0m\n",
      "\u001b[34m[21]#011train-error:0.00126#011validation-error:0.00133\u001b[0m\n",
      "\u001b[34m[22]#011train-error:0.00126#011validation-error:0.00133\u001b[0m\n",
      "\u001b[34m[23]#011train-error:0.00126#011validation-error:0.00132\u001b[0m\n",
      "\u001b[34m[24]#011train-error:0.00126#011validation-error:0.00132\u001b[0m\n",
      "\u001b[34m[25]#011train-error:0.00126#011validation-error:0.00132\u001b[0m\n",
      "\u001b[34m[26]#011train-error:0.00126#011validation-error:0.00132\u001b[0m\n",
      "\u001b[34m[27]#011train-error:0.00126#011validation-error:0.00132\u001b[0m\n",
      "\u001b[34m[28]#011train-error:0.00126#011validation-error:0.00132\u001b[0m\n",
      "\u001b[34m[29]#011train-error:0.00126#011validation-error:0.00133\u001b[0m\n",
      "\u001b[34m[30]#011train-error:0.00125#011validation-error:0.00132\u001b[0m\n",
      "\u001b[34m[31]#011train-error:0.00125#011validation-error:0.00133\u001b[0m\n",
      "\u001b[34m[32]#011train-error:0.00125#011validation-error:0.00132\u001b[0m\n",
      "\u001b[34m[33]#011train-error:0.00125#011validation-error:0.00132\u001b[0m\n",
      "\u001b[34m[34]#011train-error:0.00125#011validation-error:0.00132\u001b[0m\n",
      "\u001b[34m[35]#011train-error:0.00125#011validation-error:0.00132\u001b[0m\n",
      "\u001b[34m[36]#011train-error:0.00124#011validation-error:0.00132\u001b[0m\n",
      "\u001b[34m[37]#011train-error:0.00124#011validation-error:0.00132\u001b[0m\n",
      "\u001b[34m[38]#011train-error:0.00124#011validation-error:0.00132\u001b[0m\n",
      "\u001b[34m[39]#011train-error:0.00124#011validation-error:0.00132\u001b[0m\n",
      "\u001b[34m[40]#011train-error:0.00124#011validation-error:0.00132\u001b[0m\n",
      "\u001b[34m[41]#011train-error:0.00124#011validation-error:0.00132\u001b[0m\n",
      "\u001b[34m[42]#011train-error:0.00124#011validation-error:0.00132\u001b[0m\n",
      "\u001b[34m[43]#011train-error:0.00124#011validation-error:0.00132\u001b[0m\n",
      "\u001b[34m[44]#011train-error:0.00124#011validation-error:0.00132\u001b[0m\n",
      "\u001b[34m[45]#011train-error:0.00124#011validation-error:0.00132\u001b[0m\n",
      "\u001b[34m[46]#011train-error:0.00123#011validation-error:0.00132\u001b[0m\n",
      "\u001b[34m[47]#011train-error:0.00123#011validation-error:0.00132\u001b[0m\n",
      "\u001b[34m[48]#011train-error:0.00123#011validation-error:0.00132\u001b[0m\n",
      "\u001b[34m[49]#011train-error:0.00123#011validation-error:0.00133\u001b[0m\n",
      "\u001b[34m[50]#011train-error:0.00123#011validation-error:0.00132\u001b[0m\n",
      "\u001b[34m[51]#011train-error:0.00123#011validation-error:0.00132\u001b[0m\n",
      "\u001b[34m[52]#011train-error:0.00123#011validation-error:0.00132\u001b[0m\n",
      "\u001b[34m[53]#011train-error:0.00123#011validation-error:0.00132\u001b[0m\n",
      "\u001b[34m[54]#011train-error:0.00122#011validation-error:0.00132\u001b[0m\n",
      "\u001b[34m[55]#011train-error:0.00122#011validation-error:0.00131\u001b[0m\n",
      "\u001b[34m[56]#011train-error:0.00122#011validation-error:0.00132\u001b[0m\n",
      "\u001b[34m[57]#011train-error:0.00122#011validation-error:0.00132\u001b[0m\n",
      "\u001b[34m[58]#011train-error:0.00122#011validation-error:0.00132\u001b[0m\n",
      "\u001b[34m[59]#011train-error:0.00122#011validation-error:0.00132\u001b[0m\n",
      "\u001b[34m[60]#011train-error:0.00122#011validation-error:0.00132\u001b[0m\n",
      "\u001b[34m[61]#011train-error:0.00122#011validation-error:0.00132\u001b[0m\n",
      "\u001b[34m[62]#011train-error:0.00122#011validation-error:0.00132\u001b[0m\n",
      "\u001b[34m[63]#011train-error:0.00122#011validation-error:0.00132\u001b[0m\n",
      "\u001b[34m[64]#011train-error:0.00122#011validation-error:0.00132\u001b[0m\n",
      "\u001b[34m[65]#011train-error:0.00121#011validation-error:0.00132\u001b[0m\n",
      "\u001b[34m[66]#011train-error:0.00121#011validation-error:0.00132\u001b[0m\n",
      "\u001b[34m[67]#011train-error:0.00121#011validation-error:0.00132\u001b[0m\n",
      "\u001b[34m[68]#011train-error:0.00121#011validation-error:0.00132\u001b[0m\n",
      "\u001b[34m[69]#011train-error:0.00121#011validation-error:0.00131\u001b[0m\n",
      "\u001b[34m[70]#011train-error:0.00121#011validation-error:0.00132\u001b[0m\n",
      "\u001b[34m[71]#011train-error:0.00121#011validation-error:0.00132\u001b[0m\n",
      "\u001b[34m[72]#011train-error:0.00121#011validation-error:0.00132\u001b[0m\n",
      "\u001b[34m[73]#011train-error:0.00121#011validation-error:0.00132\u001b[0m\n",
      "\u001b[34m[74]#011train-error:0.00121#011validation-error:0.00131\u001b[0m\n",
      "\u001b[34m[75]#011train-error:0.00121#011validation-error:0.00131\u001b[0m\n",
      "\u001b[34m[76]#011train-error:0.00121#011validation-error:0.00131\u001b[0m\n",
      "\u001b[34m[77]#011train-error:0.00121#011validation-error:0.00131\u001b[0m\n",
      "\u001b[34m[78]#011train-error:0.00121#011validation-error:0.00131\u001b[0m\n",
      "\u001b[34m[79]#011train-error:0.00121#011validation-error:0.00131\u001b[0m\n",
      "\u001b[34m[80]#011train-error:0.00121#011validation-error:0.00131\u001b[0m\n",
      "\u001b[34m[81]#011train-error:0.00120#011validation-error:0.00131\u001b[0m\n",
      "\u001b[34m[82]#011train-error:0.00120#011validation-error:0.00131\u001b[0m\n",
      "\u001b[34m[83]#011train-error:0.00120#011validation-error:0.00131\u001b[0m\n",
      "\u001b[34m[84]#011train-error:0.00120#011validation-error:0.00131\u001b[0m\n",
      "\u001b[34m[85]#011train-error:0.00120#011validation-error:0.00131\u001b[0m\n",
      "\u001b[34m[86]#011train-error:0.00120#011validation-error:0.00131\u001b[0m\n",
      "\u001b[34m[87]#011train-error:0.00120#011validation-error:0.00131\u001b[0m\n",
      "\u001b[34m[88]#011train-error:0.00120#011validation-error:0.00131\u001b[0m\n",
      "\u001b[34m[89]#011train-error:0.00120#011validation-error:0.00131\u001b[0m\n",
      "\u001b[34m[90]#011train-error:0.00120#011validation-error:0.00131\u001b[0m\n",
      "\u001b[34m[91]#011train-error:0.00120#011validation-error:0.00130\u001b[0m\n",
      "\u001b[34m[92]#011train-error:0.00120#011validation-error:0.00130\u001b[0m\n",
      "\u001b[34m[93]#011train-error:0.00120#011validation-error:0.00130\u001b[0m\n",
      "\u001b[34m[94]#011train-error:0.00120#011validation-error:0.00130\u001b[0m\n",
      "\n",
      "2020-12-07 22:24:13 Uploading - Uploading generated training model\n",
      "2020-12-07 22:24:13 Completed - Training job completed\n",
      "\u001b[34m[95]#011train-error:0.00120#011validation-error:0.00130\u001b[0m\n",
      "\u001b[34m[96]#011train-error:0.00120#011validation-error:0.00130\u001b[0m\n",
      "\u001b[34m[97]#011train-error:0.00120#011validation-error:0.00130\u001b[0m\n",
      "\u001b[34m[98]#011train-error:0.00120#011validation-error:0.00130\u001b[0m\n",
      "\u001b[34m[99]#011train-error:0.00120#011validation-error:0.00130\u001b[0m\n",
      "Training seconds: 137\n",
      "Billable seconds: 137\n"
     ]
    }
   ],
   "source": [
    "# initialize hyperparameters\n",
    "hyperparameters = {\n",
    "        \"max_depth\":\"5\",\n",
    "        \"eta\":\"0.2\",\n",
    "        \"gamma\":\"4\",\n",
    "        \"min_child_weight\":\"6\",\n",
    "        \"subsample\":\"0.7\",\n",
    "        \"objective\":\"binary:logistic\",\n",
    "        \"num_round\":\"100\"}\n",
    "\n",
    "output_path = 's3://{}/{}/output'.format(BUCKET, PREFIX)\n",
    "\n",
    "# this line automatically looks for the XGBoost image URI and builds an XGBoost container.\n",
    "# specify the repo_version depending on your preference.\n",
    "xgboost_container = sagemaker.image_uris.retrieve(\"xgboost\", sagemaker.Session().boto_region_name, \"1.2-1\")\n",
    "\n",
    "# construct a SageMaker estimator that calls the xgboost-container\n",
    "estimator = sagemaker.estimator.Estimator(image_uri=xgboost_container, \n",
    "                                          hyperparameters=hyperparameters,\n",
    "                                          role=sagemaker.get_execution_role(),\n",
    "                                          instance_count=1, \n",
    "                                          instance_type='ml.m5.2xlarge', \n",
    "                                          volume_size=5, # 5 GB \n",
    "                                          output_path=output_path)\n",
    "\n",
    "# define the data type and paths to the training and validation datasets\n",
    "content_type = \"csv\"\n",
    "train_input = TrainingInput(\"s3://{}/{}/{}\".format(BUCKET, PREFIX, 'train.csv'), content_type=content_type)\n",
    "validation_input = TrainingInput(\"s3://{}/{}/{}\".format(BUCKET, PREFIX, 'val.csv'), content_type=content_type)\n",
    "\n",
    "# execute the XGBoost training job\n",
    "estimator.fit({'train': train_input, 'validation': validation_input})"
   ]
  },
  {
   "cell_type": "markdown",
   "metadata": {},
   "source": [
    "Ideally we would perform hyperparameter tuning before deployment, but for the purposes of this example will deploy the model that resulted from the Training Job directly to a SageMaker hosted endpoint."
   ]
  },
  {
   "cell_type": "code",
   "execution_count": 31,
   "metadata": {},
   "outputs": [],
   "source": [
    "predictor = estimator.deploy(\n",
    "    initial_instance_count=1, \n",
    "    instance_type='ml.t2.medium',\n",
    "    serializer=sagemaker.serializers.CSVSerializer(), wait=True)"
   ]
  },
  {
   "cell_type": "code",
   "execution_count": 34,
   "metadata": {},
   "outputs": [
    {
     "name": "stdout",
     "output_type": "stream",
     "text": [
      "Stored 'endpoint_name' (str)\n"
     ]
    },
    {
     "data": {
      "text/plain": [
       "'sagemaker-xgboost-2020-12-07-23-25-29-104'"
      ]
     },
     "execution_count": 34,
     "metadata": {},
     "output_type": "execute_result"
    }
   ],
   "source": [
    "endpoint_name=predictor.endpoint_name\n",
    "#Store the endpoint name for later cleanup \n",
    "%store endpoint_name\n",
    "endpoint_name"
   ]
  },
  {
   "cell_type": "markdown",
   "metadata": {},
   "source": [
    "Now to check that our endpoint is working, let's call it directly with a record from our test hold-out set. "
   ]
  },
  {
   "cell_type": "code",
   "execution_count": 35,
   "metadata": {},
   "outputs": [
    {
     "data": {
      "text/plain": [
       "'15.61,0.014041421952583129,0.014041421952583129,0.038461538461538464'"
      ]
     },
     "execution_count": 35,
     "metadata": {},
     "output_type": "execute_result"
    }
   ],
   "source": [
    "payload_df = test_df.drop(['tid','datetime','cc_num','fraud_label','num_trans_last_10m', 'avg_amt_last_10m',\n",
    "       'num_trans_last_1w', 'avg_amt_last_1w'], axis=1)\n",
    "payload = payload_df.head(1).to_csv(index=False, header=False).strip()\n",
    "payload"
   ]
  },
  {
   "cell_type": "code",
   "execution_count": 36,
   "metadata": {},
   "outputs": [
    {
     "data": {
      "text/plain": [
       "b'0.0002712476998567581'"
      ]
     },
     "execution_count": 36,
     "metadata": {},
     "output_type": "execute_result"
    }
   ],
   "source": [
    "predictor.predict(payload)"
   ]
  },
  {
   "cell_type": "code",
   "execution_count": 37,
   "metadata": {},
   "outputs": [
    {
     "data": {
      "text/plain": [
       "603208"
      ]
     },
     "execution_count": 37,
     "metadata": {},
     "output_type": "execute_result"
    }
   ],
   "source": [
    "len(test_df)"
   ]
  },
  {
   "cell_type": "code",
   "execution_count": 38,
   "metadata": {},
   "outputs": [
    {
     "data": {
      "text/html": [
       "<div>\n",
       "<style scoped>\n",
       "    .dataframe tbody tr th:only-of-type {\n",
       "        vertical-align: middle;\n",
       "    }\n",
       "\n",
       "    .dataframe tbody tr th {\n",
       "        vertical-align: top;\n",
       "    }\n",
       "\n",
       "    .dataframe thead th {\n",
       "        text-align: right;\n",
       "    }\n",
       "</style>\n",
       "<table border=\"1\" class=\"dataframe\">\n",
       "  <thead>\n",
       "    <tr style=\"text-align: right;\">\n",
       "      <th></th>\n",
       "      <th>tid</th>\n",
       "      <th>datetime</th>\n",
       "      <th>cc_num</th>\n",
       "      <th>amount</th>\n",
       "      <th>fraud_label</th>\n",
       "      <th>num_trans_last_10m</th>\n",
       "      <th>avg_amt_last_10m</th>\n",
       "      <th>num_trans_last_1w</th>\n",
       "      <th>avg_amt_last_1w</th>\n",
       "      <th>amt_ratio1</th>\n",
       "      <th>amt_ratio2</th>\n",
       "      <th>count_ratio</th>\n",
       "    </tr>\n",
       "  </thead>\n",
       "  <tbody>\n",
       "    <tr>\n",
       "      <th>467</th>\n",
       "      <td>b66d85a66671654ee1ce894f472ad0ed</td>\n",
       "      <td>2020-05-15T02:15:48.000Z</td>\n",
       "      <td>4001487383951324</td>\n",
       "      <td>15.61</td>\n",
       "      <td>0</td>\n",
       "      <td>1</td>\n",
       "      <td>15.61</td>\n",
       "      <td>26</td>\n",
       "      <td>1111.710769</td>\n",
       "      <td>0.014041</td>\n",
       "      <td>0.014041</td>\n",
       "      <td>0.038462</td>\n",
       "    </tr>\n",
       "    <tr>\n",
       "      <th>468</th>\n",
       "      <td>ea24ea401ee3e8359f8b391ca57bfaf8</td>\n",
       "      <td>2020-05-16T13:11:43.000Z</td>\n",
       "      <td>4001487383951324</td>\n",
       "      <td>940.21</td>\n",
       "      <td>0</td>\n",
       "      <td>1</td>\n",
       "      <td>940.21</td>\n",
       "      <td>23</td>\n",
       "      <td>1225.213043</td>\n",
       "      <td>0.767385</td>\n",
       "      <td>0.767385</td>\n",
       "      <td>0.043478</td>\n",
       "    </tr>\n",
       "    <tr>\n",
       "      <th>469</th>\n",
       "      <td>a8830365a7b881167c8e5c9daf717f89</td>\n",
       "      <td>2020-05-16T20:57:35.000Z</td>\n",
       "      <td>4001487383951324</td>\n",
       "      <td>865.45</td>\n",
       "      <td>0</td>\n",
       "      <td>1</td>\n",
       "      <td>865.45</td>\n",
       "      <td>23</td>\n",
       "      <td>1259.573913</td>\n",
       "      <td>0.687097</td>\n",
       "      <td>0.687097</td>\n",
       "      <td>0.043478</td>\n",
       "    </tr>\n",
       "    <tr>\n",
       "      <th>470</th>\n",
       "      <td>c6bbd001c206c1214e5aa2fdd12a7e35</td>\n",
       "      <td>2020-05-17T13:51:00.000Z</td>\n",
       "      <td>4001487383951324</td>\n",
       "      <td>89.21</td>\n",
       "      <td>0</td>\n",
       "      <td>1</td>\n",
       "      <td>89.21</td>\n",
       "      <td>23</td>\n",
       "      <td>1259.200000</td>\n",
       "      <td>0.070847</td>\n",
       "      <td>0.070847</td>\n",
       "      <td>0.043478</td>\n",
       "    </tr>\n",
       "    <tr>\n",
       "      <th>471</th>\n",
       "      <td>2b2bb2583079a6b8f737b40140d7754a</td>\n",
       "      <td>2020-05-17T16:41:19.000Z</td>\n",
       "      <td>4001487383951324</td>\n",
       "      <td>25.71</td>\n",
       "      <td>0</td>\n",
       "      <td>1</td>\n",
       "      <td>25.71</td>\n",
       "      <td>24</td>\n",
       "      <td>1207.804583</td>\n",
       "      <td>0.021287</td>\n",
       "      <td>0.021287</td>\n",
       "      <td>0.041667</td>\n",
       "    </tr>\n",
       "  </tbody>\n",
       "</table>\n",
       "</div>"
      ],
      "text/plain": [
       "                                  tid                  datetime  \\\n",
       "467  b66d85a66671654ee1ce894f472ad0ed  2020-05-15T02:15:48.000Z   \n",
       "468  ea24ea401ee3e8359f8b391ca57bfaf8  2020-05-16T13:11:43.000Z   \n",
       "469  a8830365a7b881167c8e5c9daf717f89  2020-05-16T20:57:35.000Z   \n",
       "470  c6bbd001c206c1214e5aa2fdd12a7e35  2020-05-17T13:51:00.000Z   \n",
       "471  2b2bb2583079a6b8f737b40140d7754a  2020-05-17T16:41:19.000Z   \n",
       "\n",
       "               cc_num  amount  fraud_label  num_trans_last_10m  \\\n",
       "467  4001487383951324   15.61            0                   1   \n",
       "468  4001487383951324  940.21            0                   1   \n",
       "469  4001487383951324  865.45            0                   1   \n",
       "470  4001487383951324   89.21            0                   1   \n",
       "471  4001487383951324   25.71            0                   1   \n",
       "\n",
       "     avg_amt_last_10m  num_trans_last_1w  avg_amt_last_1w  amt_ratio1  \\\n",
       "467             15.61                 26      1111.710769    0.014041   \n",
       "468            940.21                 23      1225.213043    0.767385   \n",
       "469            865.45                 23      1259.573913    0.687097   \n",
       "470             89.21                 23      1259.200000    0.070847   \n",
       "471             25.71                 24      1207.804583    0.021287   \n",
       "\n",
       "     amt_ratio2  count_ratio  \n",
       "467    0.014041     0.038462  \n",
       "468    0.767385     0.043478  \n",
       "469    0.687097     0.043478  \n",
       "470    0.070847     0.043478  \n",
       "471    0.021287     0.041667  "
      ]
     },
     "execution_count": 38,
     "metadata": {},
     "output_type": "execute_result"
    }
   ],
   "source": [
    "test_df.head()"
   ]
  },
  {
   "cell_type": "code",
   "execution_count": 45,
   "metadata": {},
   "outputs": [],
   "source": [
    "frauds=test_df[test_df.fraud_label==1.0]"
   ]
  },
  {
   "cell_type": "code",
   "execution_count": 50,
   "metadata": {},
   "outputs": [
    {
     "data": {
      "text/plain": [
       "'6336.79,10.03688920567039,10.03688920567039,0.03448275862068965'"
      ]
     },
     "execution_count": 50,
     "metadata": {},
     "output_type": "execute_result"
    }
   ],
   "source": [
    "payload_df = frauds.drop(['tid','datetime','cc_num','fraud_label','num_trans_last_10m', 'avg_amt_last_10m',\n",
    "       'num_trans_last_1w', 'avg_amt_last_1w'], axis=1)\n",
    "payload_df.head()\n",
    "payload = payload_df.head(1).to_csv(index=False, header=False).strip()\n",
    "payload"
   ]
  },
  {
   "cell_type": "code",
   "execution_count": 53,
   "metadata": {},
   "outputs": [
    {
     "data": {
      "text/plain": [
       "amount         343.700000\n",
       "amt_ratio1       2.639644\n",
       "amt_ratio2       0.568465\n",
       "count_ratio      0.151515\n",
       "Name: 33185, dtype: float64"
      ]
     },
     "execution_count": 53,
     "metadata": {},
     "output_type": "execute_result"
    }
   ],
   "source": [
    "payload_df.iloc[4]"
   ]
  },
  {
   "cell_type": "code",
   "execution_count": 65,
   "metadata": {},
   "outputs": [
    {
     "data": {
      "text/plain": [
       "0.8377783298492432"
      ]
     },
     "execution_count": 65,
     "metadata": {},
     "output_type": "execute_result"
    }
   ],
   "source": [
    "payload = payload_df.iloc[4].to_csv(index=False,header=False).strip().replace('\\n', ',')\n",
    "float(predictor.predict(payload).decode('utf-8'))"
   ]
  },
  {
   "cell_type": "code",
   "execution_count": 63,
   "metadata": {},
   "outputs": [
    {
     "name": "stdout",
     "output_type": "stream",
     "text": [
      "2.16.4.dev0\n"
     ]
    }
   ],
   "source": [
    "print(sagemaker.__version__)"
   ]
  },
  {
   "cell_type": "code",
   "execution_count": 89,
   "metadata": {},
   "outputs": [
    {
     "name": "stdout",
     "output_type": "stream",
     "text": [
      "NOT FRAUD, count ratio: 0.034, amt ratio1: 10.037, amt ratio2: 10.037\n",
      "NOT FRAUD, count ratio: 0.067, amt ratio1: 5.664, amt ratio2: 1.446\n",
      "NOT FRAUD, count ratio: 0.097, amt ratio1: 3.903, amt ratio2: 0.003\n",
      "NOT FRAUD, count ratio: 0.125, amt ratio1: 3.115, amt ratio2: 0.604\n",
      "FRAUD,     count ratio: 0.152, amt ratio1: 2.640, amt ratio2: 0.568\n",
      "FRAUD,     count ratio: 0.176, amt ratio1: 2.282, amt ratio2: 0.161\n",
      "FRAUD,     count ratio: 0.200, amt ratio1: 2.025, amt ratio2: 0.131\n",
      "NOT FRAUD, count ratio: 0.036, amt ratio1: 1.488, amt ratio2: 1.488\n",
      "NOT FRAUD, count ratio: 0.069, amt ratio1: 0.822, amt ratio2: 0.109\n",
      "NOT FRAUD, count ratio: 0.100, amt ratio1: 0.737, amt ratio2: 0.540\n",
      "FRAUD,     count ratio: 0.129, amt ratio1: 0.614, amt ratio2: 0.187\n",
      "FRAUD,     count ratio: 0.156, amt ratio1: 0.525, amt ratio2: 0.094\n",
      "FRAUD,     count ratio: 0.182, amt ratio1: 0.475, amt ratio2: 0.157\n",
      "FRAUD,     count ratio: 0.206, amt ratio1: 0.576, amt ratio2: 1.200\n",
      "FRAUD,     count ratio: 0.229, amt ratio1: 1.490, amt ratio2: 8.813\n",
      "NOT FRAUD, count ratio: 0.048, amt ratio1: 2.765, amt ratio2: 2.765\n",
      "NOT FRAUD, count ratio: 0.091, amt ratio1: 1.809, amt ratio2: 0.830\n",
      "FRAUD,     count ratio: 0.130, amt ratio1: 1.261, amt ratio2: 0.001\n",
      "FRAUD,     count ratio: 0.167, amt ratio1: 0.991, amt ratio2: 0.019\n",
      "FRAUD,     count ratio: 0.200, amt ratio1: 1.083, amt ratio2: 1.541\n",
      "FRAUD,     count ratio: 0.231, amt ratio1: 0.943, amt ratio2: 0.032\n",
      "FRAUD,     count ratio: 0.259, amt ratio1: 0.842, amt ratio2: 0.024\n",
      "FRAUD,     count ratio: 0.286, amt ratio1: 0.764, amt ratio2: 0.000\n",
      "NOT FRAUD, count ratio: 0.042, amt ratio1: 0.001, amt ratio2: 0.001\n",
      "NOT FRAUD, count ratio: 0.080, amt ratio1: 0.032, amt ratio2: 0.062\n",
      "NOT FRAUD, count ratio: 0.115, amt ratio1: 0.070, amt ratio2: 0.146\n",
      "NOT FRAUD, count ratio: 0.028, amt ratio1: 1.091, amt ratio2: 1.091\n",
      "NOT FRAUD, count ratio: 0.054, amt ratio1: 4.256, amt ratio2: 7.623\n",
      "NOT FRAUD, count ratio: 0.079, amt ratio1: 2.938, amt ratio2: 0.094\n",
      "NOT FRAUD, count ratio: 0.103, amt ratio1: 2.264, amt ratio2: 0.013\n",
      "NOT FRAUD, count ratio: 0.125, amt ratio1: 2.293, amt ratio2: 2.831\n",
      "NOT FRAUD, count ratio: 0.062, amt ratio1: 0.132, amt ratio2: 0.132\n",
      "NOT FRAUD, count ratio: 0.118, amt ratio1: 0.071, amt ratio2: 0.000\n",
      "FRAUD,     count ratio: 0.167, amt ratio1: 3.081, amt ratio2: 9.170\n",
      "NOT FRAUD, count ratio: 0.033, amt ratio1: 0.435, amt ratio2: 0.435\n",
      "NOT FRAUD, count ratio: 0.065, amt ratio1: 0.231, amt ratio2: 0.012\n",
      "NOT FRAUD, count ratio: 0.094, amt ratio1: 0.394, amt ratio2: 0.717\n",
      "FRAUD,     count ratio: 0.121, amt ratio1: 0.308, amt ratio2: 0.013\n",
      "NOT FRAUD, count ratio: 0.040, amt ratio1: 0.272, amt ratio2: 0.272\n",
      "NOT FRAUD, count ratio: 0.077, amt ratio1: 0.198, amt ratio2: 0.113\n",
      "NOT FRAUD, count ratio: 0.111, amt ratio1: 0.182, amt ratio2: 0.139\n",
      "FRAUD,     count ratio: 0.143, amt ratio1: 0.143, amt ratio2: 0.005\n",
      "FRAUD,     count ratio: 0.172, amt ratio1: 0.150, amt ratio2: 0.162\n",
      "FRAUD,     count ratio: 0.200, amt ratio1: 0.130, amt ratio2: 0.003\n",
      "FRAUD,     count ratio: 0.226, amt ratio1: 1.080, amt ratio2: 6.937\n",
      "FRAUD,     count ratio: 0.250, amt ratio1: 1.083, amt ratio2: 1.131\n",
      "FRAUD,     count ratio: 0.273, amt ratio1: 0.995, amt ratio2: 0.026\n",
      "NOT FRAUD, count ratio: 0.043, amt ratio1: 0.001, amt ratio2: 0.001\n",
      "NOT FRAUD, count ratio: 0.083, amt ratio1: 0.004, amt ratio2: 0.006\n",
      "NOT FRAUD, count ratio: 0.120, amt ratio1: 0.029, amt ratio2: 0.079\n",
      "FRAUD,     count ratio: 0.154, amt ratio1: 0.033, amt ratio2: 0.044\n",
      "NOT FRAUD, count ratio: 0.034, amt ratio1: 0.565, amt ratio2: 0.565\n",
      "NOT FRAUD, count ratio: 0.067, amt ratio1: 0.293, amt ratio2: 0.001\n",
      "FRAUD,     count ratio: 0.097, amt ratio1: 0.624, amt ratio2: 1.291\n",
      "NOT FRAUD, count ratio: 0.125, amt ratio1: 0.484, amt ratio2: 0.003\n",
      "FRAUD,     count ratio: 0.152, amt ratio1: 0.418, amt ratio2: 0.100\n",
      "FRAUD,     count ratio: 0.176, amt ratio1: 0.549, amt ratio2: 1.217\n",
      "FRAUD,     count ratio: 0.200, amt ratio1: 0.498, amt ratio2: 0.110\n",
      "FRAUD,     count ratio: 0.222, amt ratio1: 0.611, amt ratio2: 1.448\n",
      "FRAUD,     count ratio: 0.243, amt ratio1: 0.559, amt ratio2: 0.003\n",
      "FRAUD,     count ratio: 0.263, amt ratio1: 0.641, amt ratio2: 1.443\n",
      "NOT FRAUD, count ratio: 0.056, amt ratio1: 0.252, amt ratio2: 0.252\n",
      "NOT FRAUD, count ratio: 0.105, amt ratio1: 0.190, amt ratio2: 0.115\n",
      "FRAUD,     count ratio: 0.150, amt ratio1: 0.454, amt ratio2: 0.984\n",
      "NOT FRAUD, count ratio: 0.050, amt ratio1: 0.162, amt ratio2: 0.162\n",
      "NOT FRAUD, count ratio: 0.095, amt ratio1: 0.097, amt ratio2: 0.026\n",
      "FRAUD,     count ratio: 0.136, amt ratio1: 0.752, amt ratio2: 2.071\n",
      "FRAUD,     count ratio: 0.174, amt ratio1: 0.655, amt ratio2: 0.293\n",
      "FRAUD,     count ratio: 0.208, amt ratio1: 0.553, amt ratio2: 0.035\n",
      "FRAUD,     count ratio: 0.240, amt ratio1: 0.533, amt ratio2: 0.358\n",
      "FRAUD,     count ratio: 0.269, amt ratio1: 0.496, amt ratio2: 0.170\n",
      "FRAUD,     count ratio: 0.296, amt ratio1: 0.474, amt ratio2: 0.214\n",
      "FRAUD,     count ratio: 0.321, amt ratio1: 1.174, amt ratio2: 7.716\n",
      "NOT FRAUD, count ratio: 0.030, amt ratio1: 0.004, amt ratio2: 0.004\n",
      "NOT FRAUD, count ratio: 0.059, amt ratio1: 0.425, amt ratio2: 0.846\n",
      "NOT FRAUD, count ratio: 0.086, amt ratio1: 0.502, amt ratio2: 0.647\n",
      "NOT FRAUD, count ratio: 0.048, amt ratio1: 0.108, amt ratio2: 0.108\n",
      "NOT FRAUD, count ratio: 0.091, amt ratio1: 3.802, amt ratio2: 7.528\n",
      "NOT FRAUD, count ratio: 0.130, amt ratio1: 3.324, amt ratio2: 3.090\n",
      "NOT FRAUD, count ratio: 0.167, amt ratio1: 3.472, amt ratio2: 6.152\n",
      "FRAUD,     count ratio: 0.200, amt ratio1: 2.896, amt ratio2: 0.031\n",
      "FRAUD,     count ratio: 0.231, amt ratio1: 2.511, amt ratio2: 0.008\n",
      "FRAUD,     count ratio: 0.259, amt ratio1: 2.240, amt ratio2: 0.081\n",
      "FRAUD,     count ratio: 0.250, amt ratio1: 2.318, amt ratio2: 0.065\n",
      "NOT FRAUD, count ratio: 0.045, amt ratio1: 0.133, amt ratio2: 0.133\n",
      "NOT FRAUD, count ratio: 0.087, amt ratio1: 0.087, amt ratio2: 0.035\n",
      "NOT FRAUD, count ratio: 0.125, amt ratio1: 0.934, amt ratio2: 2.640\n",
      "FRAUD,     count ratio: 0.160, amt ratio1: 1.221, amt ratio2: 2.224\n",
      "NOT FRAUD, count ratio: 0.038, amt ratio1: 0.863, amt ratio2: 0.863\n",
      "NOT FRAUD, count ratio: 0.074, amt ratio1: 0.874, amt ratio2: 0.881\n",
      "FRAUD,     count ratio: 0.107, amt ratio1: 0.812, amt ratio2: 0.665\n",
      "FRAUD,     count ratio: 0.138, amt ratio1: 0.643, amt ratio2: 0.056\n",
      "FRAUD,     count ratio: 0.167, amt ratio1: 0.533, amt ratio2: 0.002\n",
      "FRAUD,     count ratio: 0.194, amt ratio1: 0.569, amt ratio2: 0.729\n",
      "FRAUD,     count ratio: 0.219, amt ratio1: 0.520, amt ratio2: 0.126\n",
      "FRAUD,     count ratio: 0.242, amt ratio1: 0.483, amt ratio2: 0.123\n",
      "FRAUD,     count ratio: 0.265, amt ratio1: 0.448, amt ratio2: 0.064\n",
      "FRAUD,     count ratio: 0.286, amt ratio1: 0.424, amt ratio2: 0.099\n",
      "NOT FRAUD, count ratio: 0.031, amt ratio1: 2.757, amt ratio2: 2.757\n",
      "NOT FRAUD, count ratio: 0.061, amt ratio1: 5.627, amt ratio2: 9.205\n",
      "FRAUD,     count ratio: 0.088, amt ratio1: 3.885, amt ratio2: 0.090\n",
      "NOT FRAUD, count ratio: 0.032, amt ratio1: 0.044, amt ratio2: 0.044\n",
      "NOT FRAUD, count ratio: 0.062, amt ratio1: 0.474, amt ratio2: 0.904\n",
      "NOT FRAUD, count ratio: 0.091, amt ratio1: 0.347, amt ratio2: 0.064\n",
      "NOT FRAUD, count ratio: 0.118, amt ratio1: 0.271, amt ratio2: 0.012\n",
      "NOT FRAUD, count ratio: 0.143, amt ratio1: 0.357, amt ratio2: 0.692\n",
      "FRAUD,     count ratio: 0.167, amt ratio1: 0.997, amt ratio2: 4.367\n",
      "FRAUD,     count ratio: 0.189, amt ratio1: 0.899, amt ratio2: 0.172\n",
      "FRAUD,     count ratio: 0.211, amt ratio1: 0.878, amt ratio2: 0.676\n",
      "FRAUD,     count ratio: 0.231, amt ratio1: 0.881, amt ratio2: 0.890\n",
      "NOT FRAUD, count ratio: 0.050, amt ratio1: 0.692, amt ratio2: 0.692\n",
      "NOT FRAUD, count ratio: 0.095, amt ratio1: 0.381, amt ratio2: 0.036\n",
      "FRAUD,     count ratio: 0.136, amt ratio1: 0.285, amt ratio2: 0.059\n",
      "FRAUD,     count ratio: 0.174, amt ratio1: 0.239, amt ratio2: 0.063\n",
      "FRAUD,     count ratio: 0.208, amt ratio1: 0.216, amt ratio2: 0.090\n",
      "FRAUD,     count ratio: 0.240, amt ratio1: 0.198, amt ratio2: 0.067\n",
      "FRAUD,     count ratio: 0.269, amt ratio1: 0.186, amt ratio2: 0.066\n",
      "FRAUD,     count ratio: 0.296, amt ratio1: 0.259, amt ratio2: 0.758\n",
      "FRAUD,     count ratio: 0.321, amt ratio1: 0.800, amt ratio2: 5.470\n",
      "NOT FRAUD, count ratio: 0.050, amt ratio1: 5.121, amt ratio2: 5.121\n",
      "NOT FRAUD, count ratio: 0.095, amt ratio1: 2.726, amt ratio2: 0.100\n",
      "FRAUD,     count ratio: 0.136, amt ratio1: 2.098, amt ratio2: 0.785\n",
      "FRAUD,     count ratio: 0.174, amt ratio1: 1.658, amt ratio2: 0.074\n",
      "FRAUD,     count ratio: 0.208, amt ratio1: 1.406, amt ratio2: 0.155\n",
      "FRAUD,     count ratio: 0.240, amt ratio1: 1.231, amt ratio2: 0.092\n",
      "NOT FRAUD, count ratio: 0.043, amt ratio1: 0.495, amt ratio2: 0.495\n",
      "NOT FRAUD, count ratio: 0.083, amt ratio1: 1.219, amt ratio2: 1.964\n"
     ]
    },
    {
     "name": "stdout",
     "output_type": "stream",
     "text": [
      "NOT FRAUD, count ratio: 0.120, amt ratio1: 1.854, amt ratio2: 3.365\n",
      "FRAUD,     count ratio: 0.154, amt ratio1: 1.465, amt ratio2: 0.095\n",
      "FRAUD,     count ratio: 0.185, amt ratio1: 1.252, amt ratio2: 0.227\n",
      "FRAUD,     count ratio: 0.214, amt ratio1: 1.124, amt ratio2: 0.327\n",
      "FRAUD,     count ratio: 0.241, amt ratio1: 1.038, amt ratio2: 0.373\n",
      "FRAUD,     count ratio: 0.267, amt ratio1: 0.986, amt ratio2: 0.499\n",
      "FRAUD,     count ratio: 0.290, amt ratio1: 0.936, amt ratio2: 0.366\n",
      "FRAUD,     count ratio: 0.281, amt ratio1: 0.910, amt ratio2: 0.004\n",
      "NOT FRAUD, count ratio: 0.034, amt ratio1: 0.128, amt ratio2: 0.128\n",
      "NOT FRAUD, count ratio: 0.067, amt ratio1: 4.467, amt ratio2: 8.839\n",
      "NOT FRAUD, count ratio: 0.097, amt ratio1: 3.548, amt ratio2: 2.014\n",
      "NOT FRAUD, count ratio: 0.125, amt ratio1: 2.871, amt ratio2: 0.757\n",
      "FRAUD,     count ratio: 0.152, amt ratio1: 3.007, amt ratio2: 4.975\n",
      "FRAUD,     count ratio: 0.176, amt ratio1: 2.583, amt ratio2: 0.015\n",
      "FRAUD,     count ratio: 0.200, amt ratio1: 2.279, amt ratio2: 0.002\n",
      "NOT FRAUD, count ratio: 0.038, amt ratio1: 1.477, amt ratio2: 1.477\n",
      "NOT FRAUD, count ratio: 0.074, amt ratio1: 0.842, amt ratio2: 0.160\n",
      "FRAUD,     count ratio: 0.107, amt ratio1: 2.357, amt ratio2: 5.679\n",
      "FRAUD,     count ratio: 0.138, amt ratio1: 1.839, amt ratio2: 0.043\n",
      "FRAUD,     count ratio: 0.167, amt ratio1: 1.524, amt ratio2: 0.016\n",
      "FRAUD,     count ratio: 0.194, amt ratio1: 1.932, amt ratio2: 4.983\n",
      "NOT FRAUD, count ratio: 0.036, amt ratio1: 1.347, amt ratio2: 1.347\n",
      "NOT FRAUD, count ratio: 0.069, amt ratio1: 1.108, amt ratio2: 0.863\n",
      "NOT FRAUD, count ratio: 0.100, amt ratio1: 0.780, amt ratio2: 0.052\n",
      "NOT FRAUD, count ratio: 0.036, amt ratio1: 0.014, amt ratio2: 0.014\n",
      "NOT FRAUD, count ratio: 0.069, amt ratio1: 0.038, amt ratio2: 0.061\n",
      "NOT FRAUD, count ratio: 0.100, amt ratio1: 0.231, amt ratio2: 0.616\n",
      "FRAUD,     count ratio: 0.129, amt ratio1: 0.235, amt ratio2: 0.230\n",
      "FRAUD,     count ratio: 0.156, amt ratio1: 0.279, amt ratio2: 0.435\n",
      "FRAUD,     count ratio: 0.182, amt ratio1: 0.250, amt ratio2: 0.069\n",
      "NOT FRAUD, count ratio: 0.059, amt ratio1: 0.139, amt ratio2: 0.139\n",
      "NOT FRAUD, count ratio: 0.111, amt ratio1: 0.919, amt ratio2: 1.704\n",
      "FRAUD,     count ratio: 0.158, amt ratio1: 0.674, amt ratio2: 0.092\n",
      "NOT FRAUD, count ratio: 0.040, amt ratio1: 1.460, amt ratio2: 1.460\n",
      "NOT FRAUD, count ratio: 0.077, amt ratio1: 0.809, amt ratio2: 0.106\n",
      "NOT FRAUD, count ratio: 0.111, amt ratio1: 0.596, amt ratio2: 0.114\n",
      "FRAUD,     count ratio: 0.143, amt ratio1: 0.489, amt ratio2: 0.112\n",
      "FRAUD,     count ratio: 0.172, amt ratio1: 0.534, amt ratio2: 0.689\n",
      "FRAUD,     count ratio: 0.200, amt ratio1: 0.463, amt ratio2: 0.018\n",
      "FRAUD,     count ratio: 0.226, amt ratio1: 0.431, amt ratio2: 0.164\n",
      "NOT FRAUD, count ratio: 0.053, amt ratio1: 0.062, amt ratio2: 0.062\n",
      "NOT FRAUD, count ratio: 0.100, amt ratio1: 0.177, amt ratio2: 0.290\n",
      "NOT FRAUD, count ratio: 0.143, amt ratio1: 0.292, amt ratio2: 0.514\n",
      "FRAUD,     count ratio: 0.182, amt ratio1: 0.870, amt ratio2: 2.673\n",
      "NOT FRAUD, count ratio: 0.034, amt ratio1: 17.609, amt ratio2: 17.609\n",
      "NOT FRAUD, count ratio: 0.067, amt ratio1: 9.121, amt ratio2: 0.066\n",
      "NOT FRAUD, count ratio: 0.097, amt ratio1: 6.301, amt ratio2: 0.133\n",
      "NOT FRAUD, count ratio: 0.048, amt ratio1: 0.001, amt ratio2: 0.001\n",
      "NOT FRAUD, count ratio: 0.091, amt ratio1: 0.114, amt ratio2: 0.227\n",
      "FRAUD,     count ratio: 0.130, amt ratio1: 0.086, amt ratio2: 0.020\n",
      "FRAUD,     count ratio: 0.167, amt ratio1: 0.092, amt ratio2: 0.101\n",
      "FRAUD,     count ratio: 0.200, amt ratio1: 0.098, amt ratio2: 0.105\n",
      "NOT FRAUD, count ratio: 0.043, amt ratio1: 0.567, amt ratio2: 0.567\n",
      "NOT FRAUD, count ratio: 0.083, amt ratio1: 0.312, amt ratio2: 0.033\n",
      "FRAUD,     count ratio: 0.120, amt ratio1: 0.237, amt ratio2: 0.063\n",
      "FRAUD,     count ratio: 0.154, amt ratio1: 0.190, amt ratio2: 0.022\n",
      "FRAUD,     count ratio: 0.185, amt ratio1: 0.169, amt ratio2: 0.059\n",
      "FRAUD,     count ratio: 0.214, amt ratio1: 0.166, amt ratio2: 0.126\n",
      "NOT FRAUD, count ratio: 0.045, amt ratio1: 2.147, amt ratio2: 2.147\n",
      "NOT FRAUD, count ratio: 0.087, amt ratio1: 1.130, amt ratio2: 0.016\n",
      "NOT FRAUD, count ratio: 0.125, amt ratio1: 1.350, amt ratio2: 1.878\n",
      "FRAUD,     count ratio: 0.160, amt ratio1: 1.487, amt ratio2: 2.079\n",
      "FRAUD,     count ratio: 0.192, amt ratio1: 1.557, amt ratio2: 2.097\n",
      "FRAUD,     count ratio: 0.222, amt ratio1: 1.371, amt ratio2: 0.201\n",
      "FRAUD,     count ratio: 0.250, amt ratio1: 1.247, amt ratio2: 0.284\n",
      "FRAUD,     count ratio: 0.276, amt ratio1: 1.338, amt ratio2: 2.416\n",
      "NOT FRAUD, count ratio: 0.042, amt ratio1: 0.248, amt ratio2: 0.248\n",
      "NOT FRAUD, count ratio: 0.080, amt ratio1: 0.154, amt ratio2: 0.050\n",
      "NOT FRAUD, count ratio: 0.115, amt ratio1: 0.227, amt ratio2: 0.365\n",
      "FRAUD,     count ratio: 0.148, amt ratio1: 0.216, amt ratio2: 0.162\n",
      "FRAUD,     count ratio: 0.179, amt ratio1: 0.201, amt ratio2: 0.112\n",
      "NOT FRAUD, count ratio: 0.037, amt ratio1: 2.011, amt ratio2: 2.011\n",
      "NOT FRAUD, count ratio: 0.071, amt ratio1: 4.319, amt ratio2: 7.081\n"
     ]
    }
   ],
   "source": [
    "preds = []\n",
    "acts = []\n",
    "\n",
    "frauds=test_df[test_df.fraud_label==1.0]\n",
    "payload_df = frauds.drop(['tid','datetime','cc_num','fraud_label','num_trans_last_10m', 'avg_amt_last_10m',\n",
    "       'num_trans_last_1w', 'avg_amt_last_1w'], axis=1)\n",
    "\n",
    "for t in range(200):\n",
    "    acts.append(1)\n",
    "    payload = payload_df.iloc[t].to_csv(index=False,header=False).strip().replace('\\n', ',')\n",
    "    amt_ratio1 = float(payload.split(',')[1])\n",
    "    amt_ratio2 = float(payload.split(',')[2])\n",
    "    count_ratio = float(payload.split(',')[3])\n",
    "    is_fraud = float(predictor.predict(payload).decode('utf-8'))\n",
    "    if is_fraud > 0.50:\n",
    "        preds.append(1)\n",
    "        print(f'FRAUD,     count ratio: {count_ratio:.3f}, amt ratio1: {amt_ratio1:.3f}, amt ratio2: {amt_ratio2:.3f}')\n",
    "    else:\n",
    "        preds.append(0)\n",
    "        print(f'NOT FRAUD, count ratio: {count_ratio:.3f}, amt ratio1: {amt_ratio1:.3f}, amt ratio2: {amt_ratio2:.3f}')"
   ]
  },
  {
   "cell_type": "code",
   "execution_count": 88,
   "metadata": {},
   "outputs": [
    {
     "name": "stdout",
     "output_type": "stream",
     "text": [
      "              precision    recall  f1-score   support\n",
      "\n",
      "   NOT FRAUD       0.00      0.00      0.00         0\n",
      "       FRAUD       1.00      0.45      0.62       200\n",
      "\n",
      "    accuracy                           0.45       200\n",
      "   macro avg       0.50      0.22      0.31       200\n",
      "weighted avg       1.00      0.45      0.62       200\n",
      "\n"
     ]
    }
   ],
   "source": [
    "from sklearn.metrics import classification_report\n",
    "target_names = ['NOT FRAUD', 'FRAUD']\n",
    "print(classification_report(acts, preds, target_names=target_names))"
   ]
  },
  {
   "cell_type": "code",
   "execution_count": 84,
   "metadata": {},
   "outputs": [
    {
     "name": "stdout",
     "output_type": "stream",
     "text": [
      "0\n",
      "FRAUD,     count ratio: 0.103, amt ratio1: 0.109, amt ratio2: 0.297\n",
      "0\n",
      "FRAUD,     count ratio: 0.097, amt ratio1: 0.190, amt ratio2: 0.155\n",
      "              precision    recall  f1-score   support\n",
      "\n",
      "   NOT FRAUD       1.00      1.00      1.00      2000\n",
      "       FRAUD       0.00      0.00      0.00         0\n",
      "\n",
      "    accuracy                           1.00      2000\n",
      "   macro avg       0.50      0.50      0.50      2000\n",
      "weighted avg       1.00      1.00      1.00      2000\n",
      "\n"
     ]
    }
   ],
   "source": [
    "preds = []\n",
    "acts = []\n",
    "\n",
    "payload_df = test_df.drop(['tid','datetime','cc_num','fraud_label','num_trans_last_10m', 'avg_amt_last_10m',\n",
    "       'num_trans_last_1w', 'avg_amt_last_1w'], axis=1)\n",
    "\n",
    "for t in range(2000):\n",
    "    act_label = test_df['fraud_label'].iloc[t]\n",
    "    acts.append(act_label)\n",
    "    payload = payload_df.iloc[t].to_csv(index=False,header=False).strip().replace('\\n', ',')\n",
    "    amt_ratio1 = float(payload.split(',')[1])\n",
    "    amt_ratio2 = float(payload.split(',')[2])\n",
    "    count_ratio = float(payload.split(',')[3])\n",
    "    is_fraud = float(predictor.predict(payload).decode('utf-8'))\n",
    "    if is_fraud > 0.25:\n",
    "        preds.append(1)\n",
    "        print(act_label)\n",
    "        print(f'FRAUD,     count ratio: {count_ratio:.3f}, amt ratio1: {amt_ratio1:.3f}, amt ratio2: {amt_ratio2:.3f}')\n",
    "    else:\n",
    "        preds.append(0)\n",
    "#        print(f'NOT FRAUD, count ratio: {count_ratio:.3f}, amt ratio1: {amt_ratio1:.3f}, amt ratio2: {amt_ratio2:.3f}')\n",
    "\n",
    "from sklearn.metrics import classification_report\n",
    "target_names = ['NOT FRAUD', 'FRAUD']\n",
    "#print(acts)\n",
    "print(classification_report(acts, preds, target_names=target_names))"
   ]
  },
  {
   "cell_type": "code",
   "execution_count": 40,
   "metadata": {},
   "outputs": [
    {
     "data": {
      "text/plain": [
       "716"
      ]
     },
     "execution_count": 40,
     "metadata": {},
     "output_type": "execute_result"
    }
   ],
   "source": [
    "len(test_df[test_df.datetime<'2020-05-15T00:30:00'])"
   ]
  },
  {
   "cell_type": "code",
   "execution_count": 41,
   "metadata": {},
   "outputs": [],
   "source": [
    "fraud_cc = frauds.sort_values(by='datetime').head(1).cc_num.values[0]"
   ]
  },
  {
   "cell_type": "code",
   "execution_count": 42,
   "metadata": {},
   "outputs": [
    {
     "name": "stdout",
     "output_type": "stream",
     "text": [
      "Stored 'fraud_cc' (int64)\n"
     ]
    }
   ],
   "source": [
    "%store fraud_cc"
   ]
  },
  {
   "cell_type": "code",
   "execution_count": 43,
   "metadata": {},
   "outputs": [
    {
     "data": {
      "text/html": [
       "<div>\n",
       "<style scoped>\n",
       "    .dataframe tbody tr th:only-of-type {\n",
       "        vertical-align: middle;\n",
       "    }\n",
       "\n",
       "    .dataframe tbody tr th {\n",
       "        vertical-align: top;\n",
       "    }\n",
       "\n",
       "    .dataframe thead th {\n",
       "        text-align: right;\n",
       "    }\n",
       "</style>\n",
       "<table border=\"1\" class=\"dataframe\">\n",
       "  <thead>\n",
       "    <tr style=\"text-align: right;\">\n",
       "      <th></th>\n",
       "      <th>tid</th>\n",
       "      <th>datetime</th>\n",
       "      <th>cc_num</th>\n",
       "      <th>amount</th>\n",
       "      <th>fraud_label</th>\n",
       "      <th>num_trans_last_10m</th>\n",
       "      <th>avg_amt_last_10m</th>\n",
       "      <th>num_trans_last_1w</th>\n",
       "      <th>avg_amt_last_1w</th>\n",
       "      <th>amt_ratio1</th>\n",
       "      <th>amt_ratio2</th>\n",
       "      <th>count_ratio</th>\n",
       "    </tr>\n",
       "  </thead>\n",
       "  <tbody>\n",
       "    <tr>\n",
       "      <th>5241815</th>\n",
       "      <td>4e62503e378ab1882f4a2c534ebd00aa</td>\n",
       "      <td>2020-05-15T00:00:37.000Z</td>\n",
       "      <td>4594494719397878</td>\n",
       "      <td>4962.60</td>\n",
       "      <td>1</td>\n",
       "      <td>8</td>\n",
       "      <td>1510.84375</td>\n",
       "      <td>31</td>\n",
       "      <td>1118.065161</td>\n",
       "      <td>1.351302</td>\n",
       "      <td>4.438561</td>\n",
       "      <td>0.258065</td>\n",
       "    </tr>\n",
       "    <tr>\n",
       "      <th>5241816</th>\n",
       "      <td>6eae20058a6992e0536b8137a403fddb</td>\n",
       "      <td>2020-05-15T00:02:09.000Z</td>\n",
       "      <td>4594494719397878</td>\n",
       "      <td>74.18</td>\n",
       "      <td>1</td>\n",
       "      <td>8</td>\n",
       "      <td>1513.23500</td>\n",
       "      <td>32</td>\n",
       "      <td>1085.443750</td>\n",
       "      <td>1.394116</td>\n",
       "      <td>0.068341</td>\n",
       "      <td>0.250000</td>\n",
       "    </tr>\n",
       "    <tr>\n",
       "      <th>5241817</th>\n",
       "      <td>7570a6dbcdb097fe30002dd43a87a238</td>\n",
       "      <td>2020-05-15T00:03:43.000Z</td>\n",
       "      <td>4594494719397878</td>\n",
       "      <td>75.09</td>\n",
       "      <td>1</td>\n",
       "      <td>8</td>\n",
       "      <td>1504.76250</td>\n",
       "      <td>33</td>\n",
       "      <td>1054.826970</td>\n",
       "      <td>1.426549</td>\n",
       "      <td>0.071187</td>\n",
       "      <td>0.242424</td>\n",
       "    </tr>\n",
       "    <tr>\n",
       "      <th>3805567</th>\n",
       "      <td>fb15ecfb20e8be2f4789c9c36c5b76a4</td>\n",
       "      <td>2020-05-15T00:20:50.000Z</td>\n",
       "      <td>4834624440192608</td>\n",
       "      <td>71.68</td>\n",
       "      <td>1</td>\n",
       "      <td>1</td>\n",
       "      <td>71.68000</td>\n",
       "      <td>19</td>\n",
       "      <td>640.638421</td>\n",
       "      <td>0.111888</td>\n",
       "      <td>0.111888</td>\n",
       "      <td>0.052632</td>\n",
       "    </tr>\n",
       "    <tr>\n",
       "      <th>3805568</th>\n",
       "      <td>ec2aab2411fb524524712eaf72f3811b</td>\n",
       "      <td>2020-05-15T00:21:46.000Z</td>\n",
       "      <td>4834624440192608</td>\n",
       "      <td>85.31</td>\n",
       "      <td>1</td>\n",
       "      <td>2</td>\n",
       "      <td>78.49500</td>\n",
       "      <td>20</td>\n",
       "      <td>612.872000</td>\n",
       "      <td>0.128077</td>\n",
       "      <td>0.139197</td>\n",
       "      <td>0.100000</td>\n",
       "    </tr>\n",
       "  </tbody>\n",
       "</table>\n",
       "</div>"
      ],
      "text/plain": [
       "                                      tid                  datetime  \\\n",
       "5241815  4e62503e378ab1882f4a2c534ebd00aa  2020-05-15T00:00:37.000Z   \n",
       "5241816  6eae20058a6992e0536b8137a403fddb  2020-05-15T00:02:09.000Z   \n",
       "5241817  7570a6dbcdb097fe30002dd43a87a238  2020-05-15T00:03:43.000Z   \n",
       "3805567  fb15ecfb20e8be2f4789c9c36c5b76a4  2020-05-15T00:20:50.000Z   \n",
       "3805568  ec2aab2411fb524524712eaf72f3811b  2020-05-15T00:21:46.000Z   \n",
       "\n",
       "                   cc_num   amount  fraud_label  num_trans_last_10m  \\\n",
       "5241815  4594494719397878  4962.60            1                   8   \n",
       "5241816  4594494719397878    74.18            1                   8   \n",
       "5241817  4594494719397878    75.09            1                   8   \n",
       "3805567  4834624440192608    71.68            1                   1   \n",
       "3805568  4834624440192608    85.31            1                   2   \n",
       "\n",
       "         avg_amt_last_10m  num_trans_last_1w  avg_amt_last_1w  amt_ratio1  \\\n",
       "5241815        1510.84375                 31      1118.065161    1.351302   \n",
       "5241816        1513.23500                 32      1085.443750    1.394116   \n",
       "5241817        1504.76250                 33      1054.826970    1.426549   \n",
       "3805567          71.68000                 19       640.638421    0.111888   \n",
       "3805568          78.49500                 20       612.872000    0.128077   \n",
       "\n",
       "         amt_ratio2  count_ratio  \n",
       "5241815    4.438561     0.258065  \n",
       "5241816    0.068341     0.250000  \n",
       "5241817    0.071187     0.242424  \n",
       "3805567    0.111888     0.052632  \n",
       "3805568    0.139197     0.100000  "
      ]
     },
     "execution_count": 43,
     "metadata": {},
     "output_type": "execute_result"
    }
   ],
   "source": [
    "frauds.sort_values(by='datetime').head()"
   ]
  },
  {
   "cell_type": "code",
   "execution_count": null,
   "metadata": {},
   "outputs": [],
   "source": []
  }
 ],
 "metadata": {
  "kernelspec": {
   "display_name": "conda_python3",
   "language": "python",
   "name": "conda_python3"
  },
  "language_info": {
   "codemirror_mode": {
    "name": "ipython",
    "version": 3
   },
   "file_extension": ".py",
   "mimetype": "text/x-python",
   "name": "python",
   "nbconvert_exporter": "python",
   "pygments_lexer": "ipython3",
   "version": "3.6.10"
  }
 },
 "nbformat": 4,
 "nbformat_minor": 4
}
