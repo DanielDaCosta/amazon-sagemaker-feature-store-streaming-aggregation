{
 "cells": [
  {
   "cell_type": "markdown",
   "metadata": {},
   "source": [
    "# Cleanup\n",
    "This notebook is provided to help you clean up any resources you have created by running through the example. "
   ]
  },
  {
   "cell_type": "code",
   "execution_count": 55,
   "metadata": {},
   "outputs": [],
   "source": [
    "from sagemaker import get_execution_role\n",
    "import sagemaker\n",
    "import boto3\n",
    "import json\n",
    "\n",
    "role = get_execution_role()\n",
    "sm = boto3.Session().client(service_name='sagemaker')"
   ]
  },
  {
   "cell_type": "markdown",
   "metadata": {},
   "source": [
    "### Delete the Cloud Formation stack\n",
    "This will delete all the resources created on your behalf using Cloud Formation.\n",
    "\n",
    "OR just document that they should go to the CFN console and delete the stack"
   ]
  },
  {
   "cell_type": "code",
   "execution_count": 56,
   "metadata": {},
   "outputs": [],
   "source": [
    "## boto3 cfn.delete_stack"
   ]
  },
  {
   "cell_type": "markdown",
   "metadata": {},
   "source": [
    "### Delete feature groups"
   ]
  },
  {
   "cell_type": "code",
   "execution_count": 57,
   "metadata": {},
   "outputs": [
    {
     "name": "stdout",
     "output_type": "stream",
     "text": [
      "deleted batch fg\n",
      "deleted fg\n"
     ]
    }
   ],
   "source": [
    "try:\n",
    "    sm.delete_feature_group(FeatureGroupName='cc-agg-batch-fg') \n",
    "    print('deleted batch fg')\n",
    "except:\n",
    "    pass\n",
    "\n",
    "try:\n",
    "    sm.delete_feature_group(FeatureGroupName='cc-agg-fg') # use if needed to re-create\n",
    "    print('deleted fg')\n",
    "except:\n",
    "    pass"
   ]
  },
  {
   "cell_type": "code",
   "execution_count": 58,
   "metadata": {},
   "outputs": [
    {
     "data": {
      "text/plain": [
       "{'FeatureGroupSummaries': [{'FeatureGroupName': 'transaction-feature-group-02-12-52-50',\n",
       "   'FeatureGroupArn': 'arn:aws:sagemaker:us-east-2:105242341581:feature-group/transaction-feature-group-02-12-52-50',\n",
       "   'CreationTime': datetime.datetime(2020, 12, 2, 13, 0, 43, 462000, tzinfo=tzlocal()),\n",
       "   'FeatureGroupStatus': 'Created',\n",
       "   'OfflineStoreStatus': {'Status': 'Active'}},\n",
       "  {'FeatureGroupName': 'transaction-feature-group-01-19-18-28',\n",
       "   'FeatureGroupArn': 'arn:aws:sagemaker:us-east-2:105242341581:feature-group/transaction-feature-group-01-19-18-28',\n",
       "   'CreationTime': datetime.datetime(2020, 12, 1, 19, 18, 45, 59000, tzinfo=tzlocal()),\n",
       "   'FeatureGroupStatus': 'Created',\n",
       "   'OfflineStoreStatus': {'Status': 'Active'}},\n",
       "  {'FeatureGroupName': 'transaction-feature-group-01-12-29-08',\n",
       "   'FeatureGroupArn': 'arn:aws:sagemaker:us-east-2:105242341581:feature-group/transaction-feature-group-01-12-29-08',\n",
       "   'CreationTime': datetime.datetime(2020, 12, 1, 12, 30, 53, 245000, tzinfo=tzlocal()),\n",
       "   'FeatureGroupStatus': 'Created',\n",
       "   'OfflineStoreStatus': {'Status': 'Active'}},\n",
       "  {'FeatureGroupName': 'identity-feature-group-02-12-52-50',\n",
       "   'FeatureGroupArn': 'arn:aws:sagemaker:us-east-2:105242341581:feature-group/identity-feature-group-02-12-52-50',\n",
       "   'CreationTime': datetime.datetime(2020, 12, 2, 13, 0, 40, 107000, tzinfo=tzlocal()),\n",
       "   'FeatureGroupStatus': 'Created',\n",
       "   'OfflineStoreStatus': {'Status': 'Active'}},\n",
       "  {'FeatureGroupName': 'identity-feature-group-01-19-18-28',\n",
       "   'FeatureGroupArn': 'arn:aws:sagemaker:us-east-2:105242341581:feature-group/identity-feature-group-01-19-18-28',\n",
       "   'CreationTime': datetime.datetime(2020, 12, 1, 19, 18, 34, 826000, tzinfo=tzlocal()),\n",
       "   'FeatureGroupStatus': 'Created',\n",
       "   'OfflineStoreStatus': {'Status': 'Active'}},\n",
       "  {'FeatureGroupName': 'identity-feature-group-01-12-29-08',\n",
       "   'FeatureGroupArn': 'arn:aws:sagemaker:us-east-2:105242341581:feature-group/identity-feature-group-01-12-29-08',\n",
       "   'CreationTime': datetime.datetime(2020, 12, 1, 12, 30, 50, 778000, tzinfo=tzlocal()),\n",
       "   'FeatureGroupStatus': 'Created',\n",
       "   'OfflineStoreStatus': {'Status': 'Active'}},\n",
       "  {'FeatureGroupName': 'cc-agg-fg',\n",
       "   'FeatureGroupArn': 'arn:aws:sagemaker:us-east-2:105242341581:feature-group/cc-agg-fg',\n",
       "   'CreationTime': datetime.datetime(2020, 12, 7, 21, 38, 38, 174000, tzinfo=tzlocal()),\n",
       "   'FeatureGroupStatus': 'Deleting'},\n",
       "  {'FeatureGroupName': 'cc-agg-batch-fg',\n",
       "   'FeatureGroupArn': 'arn:aws:sagemaker:us-east-2:105242341581:feature-group/cc-agg-batch-fg',\n",
       "   'CreationTime': datetime.datetime(2020, 12, 7, 21, 38, 40, 523000, tzinfo=tzlocal()),\n",
       "   'FeatureGroupStatus': 'Deleting'},\n",
       "  {'FeatureGroupName': 'FG-flow-02-22-28-02-8967a26a',\n",
       "   'FeatureGroupArn': 'arn:aws:sagemaker:us-east-2:105242341581:feature-group/fg-flow-02-22-28-02-8967a26a',\n",
       "   'CreationTime': datetime.datetime(2020, 12, 2, 22, 29, 25, 645000, tzinfo=tzlocal()),\n",
       "   'FeatureGroupStatus': 'Created'},\n",
       "  {'FeatureGroupName': 'BOTH-cc-agg-fg',\n",
       "   'FeatureGroupArn': 'arn:aws:sagemaker:us-east-2:105242341581:feature-group/both-cc-agg-fg',\n",
       "   'CreationTime': datetime.datetime(2020, 12, 2, 13, 7, 48, 166000, tzinfo=tzlocal()),\n",
       "   'FeatureGroupStatus': 'Created',\n",
       "   'OfflineStoreStatus': {'Status': 'Active'}}],\n",
       " 'NextToken': 'cIws2QhTXUIa8bi8XNBjmvhVZrilVDHDN/eno7pJbc4ACYFedgLmz2h5vQr8kQ3W4UhMXCiuBu6YomRy0jyTYPsjBwpgSbSLVwCEyEb6/1ZoUVocF0Xds60jq8T6j0tFOZWfil+b+jjUMKzT5VdoxW4rLfU0WNwPOTiw6G/L+I4PbXyn9vw6VNObk5a2NMXOuwrFr4ePMjuUSs+C/515YrNNR2isoPoXgxlYKAgQms6YSVT4wqVOqYTY03bihDqyIMLHrdvZuN6afzYOBphbT26+rSuJ1TvelkYIwyOlpuphRQvWiDSDbVp/BxEvF0qjd8Fx3FArqetPgfUIMWObrQ2CS+mPF2MJtfq7Ym/jxC2/hP9apee41B9fdqDb2msxJafKjyt5NdVpTh1yPJxpGkyvzsvitk7kLigGxxHgbqazYmleqO94U6JLs4/qoh9LIhTkw96oAJMCnop04YRSipS+25g/lEL1tOIW/uk9MjyE6NJjgwfRHqilWwxioxxYTw3Nfzc5NnEoLR6e',\n",
       " 'ResponseMetadata': {'RequestId': '6242869e-2de6-4ec7-9db3-4c00f0b23fb6',\n",
       "  'HTTPStatusCode': 200,\n",
       "  'HTTPHeaders': {'x-amzn-requestid': '6242869e-2de6-4ec7-9db3-4c00f0b23fb6',\n",
       "   'content-type': 'application/x-amz-json-1.1',\n",
       "   'content-length': '3047',\n",
       "   'date': 'Mon, 07 Dec 2020 21:40:02 GMT'},\n",
       "  'RetryAttempts': 0}}"
      ]
     },
     "execution_count": 58,
     "metadata": {},
     "output_type": "execute_result"
    }
   ],
   "source": [
    "sm.list_feature_groups()"
   ]
  },
  {
   "cell_type": "markdown",
   "metadata": {},
   "source": [
    "### Stop the KDA SQL App\n",
    "or this will get handled by the CFN delete stack"
   ]
  },
  {
   "cell_type": "code",
   "execution_count": 59,
   "metadata": {},
   "outputs": [
    {
     "name": "stdout",
     "output_type": "stream",
     "text": [
      "Stopped and deleted the KDA SQL app\n"
     ]
    }
   ],
   "source": [
    "import boto3\n",
    "kda_client = boto3.client('kinesisanalytics')\n",
    "\n",
    "try:\n",
    "    kda_client.stop_application(ApplicationName='cc-agg-app')\n",
    "except:\n",
    "    pass\n",
    "\n",
    "try:\n",
    "    create_timestamp = kda_client.describe_application(\n",
    "        ApplicationName='cc-agg-app')['ApplicationDetail']['CreateTimestamp']\n",
    "    kda_client.delete_application(ApplicationName='tmp-cc-agg-app',\n",
    "                                  CreateTimestamp=create_timestamp)\n",
    "except:\n",
    "    pass\n",
    "print('Stopped and deleted the KDA SQL app')"
   ]
  },
  {
   "cell_type": "markdown",
   "metadata": {},
   "source": [
    "### Delete the KDA SQL App"
   ]
  },
  {
   "cell_type": "code",
   "execution_count": 60,
   "metadata": {},
   "outputs": [
    {
     "name": "stdout",
     "output_type": "stream",
     "text": [
      "FAILED to delete KDA sql app\n"
     ]
    }
   ],
   "source": [
    "try:\n",
    "    create_timestamp = kda_client.describe_application(\n",
    "        ApplicationName='cc-agg-app')['ApplicationDetail']['CreateTimestamp']\n",
    "    response = kda_client.delete_application(ApplicationName='cc-agg-app',\n",
    "                                  CreateTimestamp=create_timestamp)\n",
    "    print('Deleted KDA SQL app')\n",
    "except:\n",
    "    print('FAILED to delete KDA sql app')"
   ]
  },
  {
   "cell_type": "markdown",
   "metadata": {},
   "source": [
    "### Remove the trigger from Lambda"
   ]
  },
  {
   "cell_type": "code",
   "execution_count": 65,
   "metadata": {},
   "outputs": [],
   "source": [
    "import boto3\n",
    "lambda_client = boto3.client('lambda')\n",
    "cf_client = boto3.client('cloudformation')\n",
    "\n",
    "try:\n",
    "    STACK_NAME = 'FeatureStoreStack-Test'\n",
    "    outputs = cf_client.describe_stacks(StackName=STACK_NAME)['Stacks'][0]['Outputs']\n",
    "    for o in outputs:\n",
    "        if o['OutputKey'] == 'PredictLambdaFunctionARN':\n",
    "            lambda_to_model_arn = o['OutputValue']\n",
    "except:\n",
    "    msg = f'CloudFormation stack {STACK_NAME} was not found. Please set the STACK_NAME properly and re-run this cell'\n",
    "    sys.exit(ValueError(msg))\n",
    "    \n",
    "paginator = lambda_client.get_paginator('list_event_source_mappings')\n",
    "mapping_iterator = paginator.paginate(FunctionName=lambda_to_model_arn)\n",
    "\n",
    "for m in mapping_iterator:\n",
    "    if len(m['EventSourceMappings']) > 0:\n",
    "        uuid = m['EventSourceMappings'][0]['UUID']\n",
    "        print(f'Deleting mapping: {uuid}...')\n",
    "        lambda_client.delete_event_source_mapping(UUID=uuid)"
   ]
  },
  {
   "cell_type": "markdown",
   "metadata": {},
   "source": [
    "### Delete the Kinesis data stream"
   ]
  },
  {
   "cell_type": "code",
   "execution_count": 62,
   "metadata": {},
   "outputs": [
    {
     "name": "stdout",
     "output_type": "stream",
     "text": [
      "deleted Kinesis stream\n"
     ]
    }
   ],
   "source": [
    "kinesis_client = boto3.client('kinesis')\n",
    "try:\n",
    "    kinesis_client.delete_stream(StreamName='cc-stream')\n",
    "except:\n",
    "    pass\n",
    "print('deleted Kinesis stream')"
   ]
  },
  {
   "cell_type": "markdown",
   "metadata": {},
   "source": [
    "### Delete the SageMaker endpoint"
   ]
  },
  {
   "cell_type": "code",
   "execution_count": 63,
   "metadata": {},
   "outputs": [],
   "source": [
    "%store -r\n",
    "try:\n",
    "    sm.delete_endpoint(EndpointName=endpoint_name)\n",
    "except:\n",
    "    pass"
   ]
  },
  {
   "cell_type": "code",
   "execution_count": null,
   "metadata": {},
   "outputs": [],
   "source": []
  }
 ],
 "metadata": {
  "kernelspec": {
   "display_name": "conda_python3",
   "language": "python",
   "name": "conda_python3"
  },
  "language_info": {
   "codemirror_mode": {
    "name": "ipython",
    "version": 3
   },
   "file_extension": ".py",
   "mimetype": "text/x-python",
   "name": "python",
   "nbconvert_exporter": "python",
   "pygments_lexer": "ipython3",
   "version": "3.6.10"
  }
 },
 "nbformat": 4,
 "nbformat_minor": 4
}
